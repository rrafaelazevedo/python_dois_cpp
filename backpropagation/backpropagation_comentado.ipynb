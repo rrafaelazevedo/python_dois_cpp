{
 "cells": [
  {
   "cell_type": "code",
   "execution_count": 111,
   "metadata": {},
   "outputs": [],
   "source": [
    "import numpy as np\n",
    "import pandas as pd\n",
    "from copy import deepcopy"
   ]
  },
  {
   "cell_type": "code",
   "execution_count": 112,
   "metadata": {},
   "outputs": [],
   "source": [
    "qtd_bits = 3"
   ]
  },
  {
   "cell_type": "code",
   "execution_count": 113,
   "metadata": {},
   "outputs": [
    {
     "data": {
      "text/plain": [
       "array([[0, 0, 0],\n",
       "       [0, 0, 1],\n",
       "       [0, 1, 0],\n",
       "       [0, 1, 1],\n",
       "       [1, 0, 0],\n",
       "       [1, 0, 1],\n",
       "       [1, 1, 0],\n",
       "       [1, 1, 1]])"
      ]
     },
     "execution_count": 113,
     "metadata": {},
     "output_type": "execute_result"
    }
   ],
   "source": [
    "# A tabela verdade inicia-se como uma lista vazia para receber \n",
    "# as entradas bináriasno formato array\n",
    "entradas = []\n",
    "\n",
    "# para 3 bits, precisamos gerar números de 0 à 2³ - 1 = 7 para \n",
    "# gerar a tabela verdade de 3 bits\n",
    "for i in range(2 ** qtd_bits):\n",
    "\n",
    "    i_binario_str = f\"{i:0{qtd_bits}b}\"\n",
    "    # i_binario_str = \"000\" para i = 0\n",
    "    # i_binario_str = \"001\" para i = 1\n",
    "    # i_binario_str = \"010\" para i = 2\n",
    "    # i_binario_str = \"011\" para i = 3\n",
    "    # ...\n",
    "    \n",
    "    i_binario_lista = list(i_binario_str)\n",
    "    # i_binario_lista = ['0', '0', '0'] para i = 0\n",
    "    # i_binario_lista = ['0', '0', '1'] para i = 1\n",
    "    # i_binario_lista = ['0', '1', '0'] para i = 2\n",
    "    # i_binario_lista = ['0', '1', '1'] para i = 3\n",
    "    # ...\n",
    "    \n",
    "    i_binario_arr = np.array(i_binario_lista, \n",
    "                             dtype=np.int32)\n",
    "    # i_binario_arr = array([0, 0, 0]) para i = 0\n",
    "    # i_binario_arr = array([0, 0, 1]) para i = 1\n",
    "    # i_binario_arr = array([0, 1, 0]) para i = 2\n",
    "    # i_binario_arr = array([0, 1, 1]) para i = 3\n",
    "    \n",
    "    # adiciona o array de bits na lista de entradas\n",
    "    entradas.append(i_binario_arr)\n",
    "\n",
    "# converter a lista de entradas em um array numpy\n",
    "entradas = np.array(entradas)\n",
    "entradas"
   ]
  },
  {
   "cell_type": "code",
   "execution_count": 114,
   "metadata": {},
   "outputs": [
    {
     "data": {
      "text/plain": [
       "array([0, 1, 1, 0, 1, 0, 0, 1])"
      ]
     },
     "execution_count": 114,
     "metadata": {},
     "output_type": "execute_result"
    }
   ],
   "source": [
    "saidas = []\n",
    "for linha in entradas:\n",
    "    # print(linha)\n",
    "    # print(linha.sum())\n",
    "    # print(linha.sum() % 2)\n",
    "\n",
    "    saidas.append(linha.sum() % 2)\n",
    "\n",
    "saidas = np.array(saidas)\n",
    "saidas"
   ]
  },
  {
   "cell_type": "code",
   "execution_count": 115,
   "metadata": {},
   "outputs": [
    {
     "data": {
      "text/plain": [
       "array([[0],\n",
       "       [1],\n",
       "       [1],\n",
       "       [0],\n",
       "       [1],\n",
       "       [0],\n",
       "       [0],\n",
       "       [1]])"
      ]
     },
     "execution_count": 115,
     "metadata": {},
     "output_type": "execute_result"
    }
   ],
   "source": [
    "# as saídas precisam ser, pelo menos, 2D para permitir \n",
    "# a predição de múltiplas saídas para cada entrada\n",
    "saidas = np.atleast_2d(saidas).T\n",
    "saidas"
   ]
  },
  {
   "cell_type": "code",
   "execution_count": 116,
   "metadata": {},
   "outputs": [],
   "source": [
    "class BackPropagation:\n",
    "\n",
    "    def __init__(self, entradas: np.ndarray, saidas: np.ndarray, \n",
    "                 camadas: list, lr: float, decaimento: float, seed=None) -> None:\n",
    "\n",
    "        \"\"\"\n",
    "        Inicializa o objeto da rede neural com os parâmetros \n",
    "        necessários para o treinamento\n",
    "\n",
    "        :param entradas: array 2D com as entradas da base de dados a ser ajustada\n",
    "        :param saidas: array 2D com as saídas da base de dados a ser ajustada\n",
    "        :param camadas: lista com a quantidade de neurônios em cada camada escondida\n",
    "        :param lr: taxa de aprendizado para amortizar os gradientes\n",
    "        :param decaimento: valor para decair a taxa de aprendizado a cada época\n",
    "        quantidade de épocas\n",
    "        \"\"\"\n",
    "\n",
    "        if len(camadas) < 1:\n",
    "            raise ValueError(\"Precisa de pelo menos uma camada escondida para a rede neural\")\n",
    "        \n",
    "        if entradas.shape[0] != saidas.shape[0]:\n",
    "            raise ValueError(\"O número de linhas das entradas e saídas precisam ser iguais\")\n",
    "        \n",
    "        if seed:\n",
    "            np.random.seed(seed)\n",
    "\n",
    "        self.entradas = entradas\n",
    "        self.saidas = saidas\n",
    "\n",
    "        camada_entrada = entradas.shape[1]\n",
    "        camadas.insert(0, camada_entrada)\n",
    "        camada_saida = saidas.shape[1]\n",
    "        camadas.append(camada_saida)\n",
    "        self.camadas = tuple(camadas)\n",
    "\n",
    "        self.lr = lr\n",
    "        self.decaimento = decaimento\n",
    "\n",
    "        self.pesos = []\n",
    "        for i in range(0, len(self.camadas) - 1):\n",
    "            pesos = np.random.uniform(low=-1, high=1, \n",
    "                                      size=(self.camadas[i], self.camadas[i + 1]))\n",
    "            self.pesos.append(pesos)\n",
    "        \n",
    "        self.historico_erros = []\n",
    "    \n",
    "    def __repr__(self) -> str:\n",
    "        \"\"\"\n",
    "        Retorna a representação de uma instancia da classe BackPropagation\n",
    "        \"\"\"\n",
    "        return f\"BackPropagation(entradas={self.entradas.shape}, \" \\\n",
    "               f\"saidas={self.saidas.shape}, \" \\\n",
    "               f\"camadas={self.camadas}, \" \\\n",
    "               f\"lr={self.lr}, \" \\\n",
    "               f\"decaimento={self.decaimento})\"\n",
    "    \n",
    "    def sigmoide(self, camada: np.ndarray) -> np.ndarray:\n",
    "        \"\"\"\n",
    "        Calcula a função sigmoide para ativar os neurônios da rede neural\n",
    "\n",
    "        :param camada: array 2D com os valores das camadas da rede neural\n",
    "        \"\"\"\n",
    "        return 1 / (1 + np.exp(-camada))\n",
    "    \n",
    "    def derivada_sigmoide(self, sig: np.ndarray) -> np.ndarray:\n",
    "        \"\"\"\n",
    "        Calcula a derivada da função sigmoide para ajustar os pesos \n",
    "        da rede neural\n",
    "\n",
    "        :param sig: array 2D com as ativações da rede neural\n",
    "        \"\"\"\n",
    "        return sig * (1 - sig)\n",
    "        \n",
    "    def propagacao_para_frente(self, camada_entrada: np.ndarray) -> list:\n",
    "        \"\"\"\n",
    "        Realiza a propagação para frente para calcular as ativações \n",
    "        da rede neural\n",
    "\n",
    "        :param camada_entrada: array 2D com as entradas da base de dados\n",
    "        \"\"\"\n",
    "\n",
    "        ativacao = np.atleast_2d(camada_entrada)\n",
    "        self.ativacoes = [ativacao]\n",
    "\n",
    "        for pesos in self.pesos:\n",
    "            proxima_camada = ativacao.dot(pesos)\n",
    "            ativacao = self.sigmoide(proxima_camada)\n",
    "            self.ativacoes.append(ativacao)\n",
    "    \n",
    "    def propagacao_para_tras(self, camada_saida: np.ndarray) -> tuple:\n",
    "        \"\"\"\n",
    "        Realiza a propagação para trás para ajustar os pesos da rede neural\n",
    "\n",
    "        :param camada_saida: array 2D com as saídas da base de dados\n",
    "        \"\"\"\n",
    "\n",
    "        derivada_erro = (camada_saida - self.ativacoes[-1]) * (-1)\n",
    "        derivada_sig_saida = self.derivada_sigmoide(self.ativacoes[-1])\n",
    "        derivada_vermelha = derivada_erro * derivada_sig_saida\n",
    "\n",
    "        derivadas_acumuladas = [derivada_vermelha]\n",
    "\n",
    "        for camada in range(len(self.ativacoes) - 2, 0, -1):\n",
    "            derivada_camada_sig = \\\n",
    "                self.derivada_sigmoide(self.ativacoes[camada])\n",
    "            derivada_camada = self.pesos[camada].T\n",
    "            derivada_anterior = derivadas_acumuladas[-1]\n",
    "\n",
    "            derivada_laranja = derivada_camada * derivada_camada_sig\n",
    "            derivada_acumulada = derivada_anterior.dot(derivada_laranja)\n",
    "            derivadas_acumuladas.append(derivada_acumulada)\n",
    "\n",
    "        derivadas_acumuladas = derivadas_acumuladas[::-1]\n",
    "\n",
    "        for indice_pesos in range(0, len(self.pesos)):\n",
    "            derivada_azul = self.ativacoes[indice_pesos].T\n",
    "            derivada_acumulada = derivadas_acumuladas[indice_pesos]\n",
    "            gradiente = derivada_azul.dot(derivada_acumulada)\n",
    "\n",
    "            self.pesos[indice_pesos] += -self.lr * gradiente\n",
    "\n",
    "    def predizer(self, entradas: np.ndarray) -> np.ndarray:\n",
    "        \"\"\"\n",
    "        Prediz as saídas com base nas entradas fornecidas e os pesos \n",
    "        atuais da rede neural\n",
    "\n",
    "        :param entradas: array 2D com as entradas a serem preditas\n",
    "        \"\"\"\n",
    "        self.propagacao_para_frente(entradas)\n",
    "        return self.ativacoes[-1]\n",
    "    \n",
    "    def calcula_erro_geral(self) -> float:\n",
    "        \"\"\"\n",
    "        Calcula o erro geral da rede neural para a base de dados\n",
    "        \"\"\"\n",
    "\n",
    "        saidas_preditas = self.predizer(self.entradas)\n",
    "\n",
    "        erros = 0.50 * (saidas_preditas - self.saidas) ** 2\n",
    "        erro_geral = np.mean(erros)\n",
    "\n",
    "        return erro_geral\n",
    "        \n",
    "    \n",
    "    def treinar(self, epocas, mostrar_resultados_a_cada):\n",
    "        \"\"\"\n",
    "        Treina a rede neural com base nos parâmetros fornecidos\n",
    "\n",
    "        :param epocas: quantidade de épocas para treinar a rede neural\n",
    "        :param mostrar_resultados_a_cada: porcentagem de épocas para mostrar\n",
    "        \"\"\"\n",
    "        \n",
    "        if mostrar_resultados_a_cada < 0 or mostrar_resultados_a_cada > 1:\n",
    "            raise ValueError(\"O valor de mostrar_resultados_a_cada precisa \"\n",
    "            \"ser entre 0 e 1\")\n",
    "        \n",
    "        mostrar_resultados_a_cada = int(mostrar_resultados_a_cada * epocas)\n",
    "        \n",
    "        for epoca in range(epocas):\n",
    "\n",
    "            for iteracao in range(len(self.entradas)):\n",
    "\n",
    "                camada_entrada = self.entradas[iteracao]\n",
    "                self.propagacao_para_frente(camada_entrada=camada_entrada)\n",
    "\n",
    "                camada_saida = self.saidas[iteracao]                \n",
    "                self.propagacao_para_tras(camada_saida=camada_saida)\n",
    "\n",
    "            ultimo_erro = self.calcula_erro_geral()\n",
    "            self.historico_erros.append(ultimo_erro)\n",
    "\n",
    "            self.lr = self.lr * (1 - self.decaimento)\n",
    "            try:\n",
    "                if (epoca + 1) % mostrar_resultados_a_cada == 0:\n",
    "                    print(f\"Epoca: {epoca + 1} ({(epoca + 1) / epocas:.0%}), \" \\\n",
    "                          f\"LR: {self.lr:.3f}, \" \\\n",
    "                          f\"Erro: {ultimo_erro:.7f}\",\n",
    "                          end=\"\\r\")\n",
    "            except ZeroDivisionError:\n",
    "                pass"
   ]
  },
  {
   "cell_type": "code",
   "execution_count": 117,
   "metadata": {},
   "outputs": [],
   "source": [
    "objeto_bp = BackPropagation(entradas=entradas, \n",
    "                            saidas=saidas, \n",
    "                            camadas=[3], \n",
    "                            lr=0.1, \n",
    "                            decaimento=0.00001,\n",
    "                            seed=42)"
   ]
  },
  {
   "cell_type": "code",
   "execution_count": 118,
   "metadata": {},
   "outputs": [
    {
     "name": "stdout",
     "output_type": "stream",
     "text": [
      "Epoca: 100000 (100%), LR: 0.037, Erro: 0.0008132\r"
     ]
    },
    {
     "data": {
      "text/plain": [
       "array([[0.07289606],\n",
       "       [0.96364861],\n",
       "       [0.96262235],\n",
       "       [0.01207549],\n",
       "       [0.94786622],\n",
       "       [0.03220946],\n",
       "       [0.03279243],\n",
       "       [0.99839894]])"
      ]
     },
     "execution_count": 118,
     "metadata": {},
     "output_type": "execute_result"
    }
   ],
   "source": [
    "objeto_bp.treinar(epocas=100000, mostrar_resultados_a_cada=0.05)\n",
    "objeto_bp.predizer(entradas)"
   ]
  },
  {
   "cell_type": "markdown",
   "metadata": {},
   "source": [
    "### Rodar um modelo de classificação/regressão de dados na base de dados ``completa`` serve para demonstrar que o modelo utilizado ``é capaz`` de realizar as curvas necessárias para a topologia do problema. Porém, esta característica ``não é suficiente`` para garantir aplicabilidade do modelo em um cenário real. É necessário que o modelo seja capaz de ser treinado numa base de dados ``limitada`` (amostra), e que a partir desta amostra, seja capaz de ``generalizar`` para a base de dados completa. \n",
    "\n",
    "\n",
    "### Esta generalização pode ser obtida se os ``dados`` apresentados no treinamento possuem relação (colunas) com o objetivo do modelo. O volume de ``dados`` de treinamento precisam possuir uma quantidade de dados (linhas) razoável, ou seja, a base de treinamento (amostra) deve ser relevante em relação à população de dados.\n",
    "\n",
    "\n",
    "### Não é recomendável utilizar modelos de alta complexidade para problemas de baixa complexidade, pois o modelo de alta complexidade terá que enfrentar a ``baixa probabilidade`` de encontrar (heuristicamente) os parâmetros de ajustes corretos por ter ``mais parâmetros`` do que os modelos de baixa complexidade.\n",
    "\n",
    "\n",
    "### A chave para um bom trabalho de ciência de dados, é o cientista de dados ``trabalhar com os dados`` que possui até fazer uma combinação de dados com o modelo de ajuste que melhor se encaixa no problema de uma forma geral."
   ]
  },
  {
   "cell_type": "markdown",
   "metadata": {},
   "source": [
    "---\n",
    "### Rodando o modelo para dados do ``MNIST`` (Digitos escritos à mão)"
   ]
  },
  {
   "cell_type": "code",
   "execution_count": 119,
   "metadata": {},
   "outputs": [],
   "source": [
    "import matplotlib.pyplot as plt\n",
    "from sklearn.preprocessing import LabelBinarizer\n",
    "from sklearn.model_selection import train_test_split\n",
    "from sklearn.metrics import classification_report\n",
    "from sklearn import datasets"
   ]
  },
  {
   "cell_type": "code",
   "execution_count": 120,
   "metadata": {},
   "outputs": [],
   "source": [
    "# carregando os dados públicos pelo sklearn\n",
    "digitos = datasets.load_digits()"
   ]
  },
  {
   "cell_type": "code",
   "execution_count": 121,
   "metadata": {},
   "outputs": [
    {
     "data": {
      "text/plain": [
       "{'data': array([[ 0.,  0.,  5., ...,  0.,  0.,  0.],\n",
       "        [ 0.,  0.,  0., ..., 10.,  0.,  0.],\n",
       "        [ 0.,  0.,  0., ..., 16.,  9.,  0.],\n",
       "        ...,\n",
       "        [ 0.,  0.,  1., ...,  6.,  0.,  0.],\n",
       "        [ 0.,  0.,  2., ..., 12.,  0.,  0.],\n",
       "        [ 0.,  0., 10., ..., 12.,  1.,  0.]]),\n",
       " 'target': array([0, 1, 2, ..., 8, 9, 8]),\n",
       " 'frame': None,\n",
       " 'feature_names': ['pixel_0_0',\n",
       "  'pixel_0_1',\n",
       "  'pixel_0_2',\n",
       "  'pixel_0_3',\n",
       "  'pixel_0_4',\n",
       "  'pixel_0_5',\n",
       "  'pixel_0_6',\n",
       "  'pixel_0_7',\n",
       "  'pixel_1_0',\n",
       "  'pixel_1_1',\n",
       "  'pixel_1_2',\n",
       "  'pixel_1_3',\n",
       "  'pixel_1_4',\n",
       "  'pixel_1_5',\n",
       "  'pixel_1_6',\n",
       "  'pixel_1_7',\n",
       "  'pixel_2_0',\n",
       "  'pixel_2_1',\n",
       "  'pixel_2_2',\n",
       "  'pixel_2_3',\n",
       "  'pixel_2_4',\n",
       "  'pixel_2_5',\n",
       "  'pixel_2_6',\n",
       "  'pixel_2_7',\n",
       "  'pixel_3_0',\n",
       "  'pixel_3_1',\n",
       "  'pixel_3_2',\n",
       "  'pixel_3_3',\n",
       "  'pixel_3_4',\n",
       "  'pixel_3_5',\n",
       "  'pixel_3_6',\n",
       "  'pixel_3_7',\n",
       "  'pixel_4_0',\n",
       "  'pixel_4_1',\n",
       "  'pixel_4_2',\n",
       "  'pixel_4_3',\n",
       "  'pixel_4_4',\n",
       "  'pixel_4_5',\n",
       "  'pixel_4_6',\n",
       "  'pixel_4_7',\n",
       "  'pixel_5_0',\n",
       "  'pixel_5_1',\n",
       "  'pixel_5_2',\n",
       "  'pixel_5_3',\n",
       "  'pixel_5_4',\n",
       "  'pixel_5_5',\n",
       "  'pixel_5_6',\n",
       "  'pixel_5_7',\n",
       "  'pixel_6_0',\n",
       "  'pixel_6_1',\n",
       "  'pixel_6_2',\n",
       "  'pixel_6_3',\n",
       "  'pixel_6_4',\n",
       "  'pixel_6_5',\n",
       "  'pixel_6_6',\n",
       "  'pixel_6_7',\n",
       "  'pixel_7_0',\n",
       "  'pixel_7_1',\n",
       "  'pixel_7_2',\n",
       "  'pixel_7_3',\n",
       "  'pixel_7_4',\n",
       "  'pixel_7_5',\n",
       "  'pixel_7_6',\n",
       "  'pixel_7_7'],\n",
       " 'target_names': array([0, 1, 2, 3, 4, 5, 6, 7, 8, 9]),\n",
       " 'images': array([[[ 0.,  0.,  5., ...,  1.,  0.,  0.],\n",
       "         [ 0.,  0., 13., ..., 15.,  5.,  0.],\n",
       "         [ 0.,  3., 15., ..., 11.,  8.,  0.],\n",
       "         ...,\n",
       "         [ 0.,  4., 11., ..., 12.,  7.,  0.],\n",
       "         [ 0.,  2., 14., ..., 12.,  0.,  0.],\n",
       "         [ 0.,  0.,  6., ...,  0.,  0.,  0.]],\n",
       " \n",
       "        [[ 0.,  0.,  0., ...,  5.,  0.,  0.],\n",
       "         [ 0.,  0.,  0., ...,  9.,  0.,  0.],\n",
       "         [ 0.,  0.,  3., ...,  6.,  0.,  0.],\n",
       "         ...,\n",
       "         [ 0.,  0.,  1., ...,  6.,  0.,  0.],\n",
       "         [ 0.,  0.,  1., ...,  6.,  0.,  0.],\n",
       "         [ 0.,  0.,  0., ..., 10.,  0.,  0.]],\n",
       " \n",
       "        [[ 0.,  0.,  0., ..., 12.,  0.,  0.],\n",
       "         [ 0.,  0.,  3., ..., 14.,  0.,  0.],\n",
       "         [ 0.,  0.,  8., ..., 16.,  0.,  0.],\n",
       "         ...,\n",
       "         [ 0.,  9., 16., ...,  0.,  0.,  0.],\n",
       "         [ 0.,  3., 13., ..., 11.,  5.,  0.],\n",
       "         [ 0.,  0.,  0., ..., 16.,  9.,  0.]],\n",
       " \n",
       "        ...,\n",
       " \n",
       "        [[ 0.,  0.,  1., ...,  1.,  0.,  0.],\n",
       "         [ 0.,  0., 13., ...,  2.,  1.,  0.],\n",
       "         [ 0.,  0., 16., ..., 16.,  5.,  0.],\n",
       "         ...,\n",
       "         [ 0.,  0., 16., ..., 15.,  0.,  0.],\n",
       "         [ 0.,  0., 15., ..., 16.,  0.,  0.],\n",
       "         [ 0.,  0.,  2., ...,  6.,  0.,  0.]],\n",
       " \n",
       "        [[ 0.,  0.,  2., ...,  0.,  0.,  0.],\n",
       "         [ 0.,  0., 14., ..., 15.,  1.,  0.],\n",
       "         [ 0.,  4., 16., ..., 16.,  7.,  0.],\n",
       "         ...,\n",
       "         [ 0.,  0.,  0., ..., 16.,  2.,  0.],\n",
       "         [ 0.,  0.,  4., ..., 16.,  2.,  0.],\n",
       "         [ 0.,  0.,  5., ..., 12.,  0.,  0.]],\n",
       " \n",
       "        [[ 0.,  0., 10., ...,  1.,  0.,  0.],\n",
       "         [ 0.,  2., 16., ...,  1.,  0.,  0.],\n",
       "         [ 0.,  0., 15., ..., 15.,  0.,  0.],\n",
       "         ...,\n",
       "         [ 0.,  4., 16., ..., 16.,  6.,  0.],\n",
       "         [ 0.,  8., 16., ..., 16.,  8.,  0.],\n",
       "         [ 0.,  1.,  8., ..., 12.,  1.,  0.]]]),\n",
       " 'DESCR': \".. _digits_dataset:\\n\\nOptical recognition of handwritten digits dataset\\n--------------------------------------------------\\n\\n**Data Set Characteristics:**\\n\\n:Number of Instances: 1797\\n:Number of Attributes: 64\\n:Attribute Information: 8x8 image of integer pixels in the range 0..16.\\n:Missing Attribute Values: None\\n:Creator: E. Alpaydin (alpaydin '@' boun.edu.tr)\\n:Date: July; 1998\\n\\nThis is a copy of the test set of the UCI ML hand-written digits datasets\\nhttps://archive.ics.uci.edu/ml/datasets/Optical+Recognition+of+Handwritten+Digits\\n\\nThe data set contains images of hand-written digits: 10 classes where\\neach class refers to a digit.\\n\\nPreprocessing programs made available by NIST were used to extract\\nnormalized bitmaps of handwritten digits from a preprinted form. From a\\ntotal of 43 people, 30 contributed to the training set and different 13\\nto the test set. 32x32 bitmaps are divided into nonoverlapping blocks of\\n4x4 and the number of on pixels are counted in each block. This generates\\nan input matrix of 8x8 where each element is an integer in the range\\n0..16. This reduces dimensionality and gives invariance to small\\ndistortions.\\n\\nFor info on NIST preprocessing routines, see M. D. Garris, J. L. Blue, G.\\nT. Candela, D. L. Dimmick, J. Geist, P. J. Grother, S. A. Janet, and C.\\nL. Wilson, NIST Form-Based Handprint Recognition System, NISTIR 5469,\\n1994.\\n\\n.. dropdown:: References\\n\\n  - C. Kaynak (1995) Methods of Combining Multiple Classifiers and Their\\n    Applications to Handwritten Digit Recognition, MSc Thesis, Institute of\\n    Graduate Studies in Science and Engineering, Bogazici University.\\n  - E. Alpaydin, C. Kaynak (1998) Cascading Classifiers, Kybernetika.\\n  - Ken Tang and Ponnuthurai N. Suganthan and Xi Yao and A. Kai Qin.\\n    Linear dimensionalityreduction using relevance weighted LDA. School of\\n    Electrical and Electronic Engineering Nanyang Technological University.\\n    2005.\\n  - Claudio Gentile. A New Approximate Maximal Margin Classification\\n    Algorithm. NIPS. 2000.\\n\"}"
      ]
     },
     "execution_count": 121,
     "metadata": {},
     "output_type": "execute_result"
    }
   ],
   "source": [
    "# checando o objeto dentro da variável 'digitos'\n",
    "digitos"
   ]
  },
  {
   "cell_type": "code",
   "execution_count": 122,
   "metadata": {},
   "outputs": [
    {
     "name": "stdout",
     "output_type": "stream",
     "text": [
      ".. _digits_dataset:\n",
      "\n",
      "Optical recognition of handwritten digits dataset\n",
      "--------------------------------------------------\n",
      "\n",
      "**Data Set Characteristics:**\n",
      "\n",
      ":Number of Instances: 1797\n",
      ":Number of Attributes: 64\n",
      ":Attribute Information: 8x8 image of integer pixels in the range 0..16.\n",
      ":Missing Attribute Values: None\n",
      ":Creator: E. Alpaydin (alpaydin '@' boun.edu.tr)\n",
      ":Date: July; 1998\n",
      "\n",
      "This is a copy of the test set of the UCI ML hand-written digits datasets\n",
      "https://archive.ics.uci.edu/ml/datasets/Optical+Recognition+of+Handwritten+Digits\n",
      "\n",
      "The data set contains images of hand-written digits: 10 classes where\n",
      "each class refers to a digit.\n",
      "\n",
      "Preprocessing programs made available by NIST were used to extract\n",
      "normalized bitmaps of handwritten digits from a preprinted form. From a\n",
      "total of 43 people, 30 contributed to the training set and different 13\n",
      "to the test set. 32x32 bitmaps are divided into nonoverlapping blocks of\n",
      "4x4 and the number of on pixels are counted in each block. This generates\n",
      "an input matrix of 8x8 where each element is an integer in the range\n",
      "0..16. This reduces dimensionality and gives invariance to small\n",
      "distortions.\n",
      "\n",
      "For info on NIST preprocessing routines, see M. D. Garris, J. L. Blue, G.\n",
      "T. Candela, D. L. Dimmick, J. Geist, P. J. Grother, S. A. Janet, and C.\n",
      "L. Wilson, NIST Form-Based Handprint Recognition System, NISTIR 5469,\n",
      "1994.\n",
      "\n",
      ".. dropdown:: References\n",
      "\n",
      "  - C. Kaynak (1995) Methods of Combining Multiple Classifiers and Their\n",
      "    Applications to Handwritten Digit Recognition, MSc Thesis, Institute of\n",
      "    Graduate Studies in Science and Engineering, Bogazici University.\n",
      "  - E. Alpaydin, C. Kaynak (1998) Cascading Classifiers, Kybernetika.\n",
      "  - Ken Tang and Ponnuthurai N. Suganthan and Xi Yao and A. Kai Qin.\n",
      "    Linear dimensionalityreduction using relevance weighted LDA. School of\n",
      "    Electrical and Electronic Engineering Nanyang Technological University.\n",
      "    2005.\n",
      "  - Claudio Gentile. A New Approximate Maximal Margin Classification\n",
      "    Algorithm. NIPS. 2000.\n",
      "\n"
     ]
    }
   ],
   "source": [
    "print(digitos[\"DESCR\"])"
   ]
  },
  {
   "cell_type": "code",
   "execution_count": 123,
   "metadata": {},
   "outputs": [
    {
     "data": {
      "text/plain": [
       "sklearn.utils._bunch.Bunch"
      ]
     },
     "execution_count": 123,
     "metadata": {},
     "output_type": "execute_result"
    }
   ],
   "source": [
    "# checando o tipo do dado 'digitos' (bunch)\n",
    "type(digitos)"
   ]
  },
  {
   "cell_type": "code",
   "execution_count": 124,
   "metadata": {},
   "outputs": [
    {
     "data": {
      "text/plain": [
       "array([[ 0.,  0.,  5., 13.,  9.,  1.,  0.,  0.,  0.,  0., 13., 15., 10.,\n",
       "        15.,  5.,  0.,  0.,  3., 15.,  2.,  0., 11.,  8.,  0.,  0.,  4.,\n",
       "        12.,  0.,  0.,  8.,  8.,  0.,  0.,  5.,  8.,  0.,  0.,  9.,  8.,\n",
       "         0.,  0.,  4., 11.,  0.,  1., 12.,  7.,  0.,  0.,  2., 14.,  5.,\n",
       "        10., 12.,  0.,  0.,  0.,  0.,  6., 13., 10.,  0.,  0.,  0.],\n",
       "       [ 0.,  0.,  0., 12., 13.,  5.,  0.,  0.,  0.,  0.,  0., 11., 16.,\n",
       "         9.,  0.,  0.,  0.,  0.,  3., 15., 16.,  6.,  0.,  0.,  0.,  7.,\n",
       "        15., 16., 16.,  2.,  0.,  0.,  0.,  0.,  1., 16., 16.,  3.,  0.,\n",
       "         0.,  0.,  0.,  1., 16., 16.,  6.,  0.,  0.,  0.,  0.,  1., 16.,\n",
       "        16.,  6.,  0.,  0.,  0.,  0.,  0., 11., 16., 10.,  0.,  0.]])"
      ]
     },
     "execution_count": 124,
     "metadata": {},
     "output_type": "execute_result"
    }
   ],
   "source": [
    "# verificando a chave 'data' do objeto 'bunch' (tipo dicionario) 'digitos'\n",
    "digitos['data'][:2]"
   ]
  },
  {
   "cell_type": "code",
   "execution_count": 125,
   "metadata": {},
   "outputs": [
    {
     "data": {
      "text/plain": [
       "array([[ 0.,  0.,  5., 13.,  9.,  1.,  0.,  0.,  0.,  0., 13., 15., 10.,\n",
       "        15.,  5.,  0.,  0.,  3., 15.,  2.,  0., 11.,  8.,  0.,  0.,  4.,\n",
       "        12.,  0.,  0.,  8.,  8.,  0.,  0.,  5.,  8.,  0.,  0.,  9.,  8.,\n",
       "         0.,  0.,  4., 11.,  0.,  1., 12.,  7.,  0.,  0.,  2., 14.,  5.,\n",
       "        10., 12.,  0.,  0.,  0.,  0.,  6., 13., 10.,  0.,  0.,  0.],\n",
       "       [ 0.,  0.,  0., 12., 13.,  5.,  0.,  0.,  0.,  0.,  0., 11., 16.,\n",
       "         9.,  0.,  0.,  0.,  0.,  3., 15., 16.,  6.,  0.,  0.,  0.,  7.,\n",
       "        15., 16., 16.,  2.,  0.,  0.,  0.,  0.,  1., 16., 16.,  3.,  0.,\n",
       "         0.,  0.,  0.,  1., 16., 16.,  6.,  0.,  0.,  0.,  0.,  1., 16.,\n",
       "        16.,  6.,  0.,  0.,  0.,  0.,  0., 11., 16., 10.,  0.,  0.]])"
      ]
     },
     "execution_count": 125,
     "metadata": {},
     "output_type": "execute_result"
    }
   ],
   "source": [
    "# carregando o array que representa as imagens\n",
    "entradas = digitos['data']# .astype(\"float\")\n",
    "entradas[:2]"
   ]
  },
  {
   "cell_type": "code",
   "execution_count": 126,
   "metadata": {},
   "outputs": [
    {
     "data": {
      "text/plain": [
       "(1797, 64)"
      ]
     },
     "execution_count": 126,
     "metadata": {},
     "output_type": "execute_result"
    }
   ],
   "source": [
    "# possuem 1797 imagens de 8x8 pixels. Cada pixel é um valor entre \n",
    "# 0 e 16 (int de 4 bits)\n",
    "entradas.shape"
   ]
  },
  {
   "cell_type": "code",
   "execution_count": 127,
   "metadata": {},
   "outputs": [
    {
     "data": {
      "text/plain": [
       "array([ 0.,  0.,  5., 13.,  9.,  1.,  0.,  0.,  0.,  0., 13., 15., 10.,\n",
       "       15.,  5.,  0.,  0.,  3., 15.,  2.,  0., 11.,  8.,  0.,  0.,  4.,\n",
       "       12.,  0.,  0.,  8.,  8.,  0.,  0.,  5.,  8.,  0.,  0.,  9.,  8.,\n",
       "        0.,  0.,  4., 11.,  0.,  1., 12.,  7.,  0.,  0.,  2., 14.,  5.,\n",
       "       10., 12.,  0.,  0.,  0.,  0.,  6., 13., 10.,  0.,  0.,  0.])"
      ]
     },
     "execution_count": 127,
     "metadata": {},
     "output_type": "execute_result"
    }
   ],
   "source": [
    "# primeira imagem\n",
    "entradas[0]"
   ]
  },
  {
   "cell_type": "code",
   "execution_count": 128,
   "metadata": {},
   "outputs": [
    {
     "data": {
      "text/plain": [
       "(64,)"
      ]
     },
     "execution_count": 128,
     "metadata": {},
     "output_type": "execute_result"
    }
   ],
   "source": [
    "# 64 atributos para cada imagem\n",
    "entradas[0].shape"
   ]
  },
  {
   "cell_type": "code",
   "execution_count": 129,
   "metadata": {},
   "outputs": [
    {
     "data": {
      "image/png": "[encoded data removed]",
      "text/plain": [
       "<Figure size 640x480 with 1 Axes>"
      ]
     },
     "metadata": {},
     "output_type": "display_data"
    },
    {
     "name": "stdout",
     "output_type": "stream",
     "text": [
      "0\n"
     ]
    }
   ],
   "source": [
    "# mostrando a imagem (8x8) através do matplotlib\n",
    "indice_imagem = 0\n",
    "\n",
    "plt.imshow(entradas[indice_imagem].reshape(8, 8), cmap=\"gray\")\n",
    "plt.show()\n",
    "\n",
    "# mostrando a classe (alvo) da imagem\n",
    "print(digitos[\"target\"][indice_imagem])"
   ]
  },
  {
   "cell_type": "code",
   "execution_count": 130,
   "metadata": {},
   "outputs": [
    {
     "data": {
      "text/plain": [
       "array([0, 1, 2, 3, 4, 5, 6, 7, 8, 9])"
      ]
     },
     "execution_count": 130,
     "metadata": {},
     "output_type": "execute_result"
    }
   ],
   "source": [
    "# observando o estado do array de saídas (alvos-target)\n",
    "saidas = digitos[\"target\"]\n",
    "saidas[:10]"
   ]
  },
  {
   "cell_type": "code",
   "execution_count": 131,
   "metadata": {},
   "outputs": [],
   "source": [
    "# separando as entradas e saídas em treino e teste (75% treino, 25% teste). \n",
    "# O random_state é para garantir a reprodutibilidade (seed)\n",
    "trainX, testX, trainY, testY = \\\n",
    "    train_test_split(entradas, saidas, test_size=0.25, random_state=42)"
   ]
  },
  {
   "cell_type": "code",
   "execution_count": 132,
   "metadata": {},
   "outputs": [
    {
     "data": {
      "text/plain": [
       "((1347, 64), (450, 64))"
      ]
     },
     "execution_count": 132,
     "metadata": {},
     "output_type": "execute_result"
    }
   ],
   "source": [
    "# entradas de treino e teste\n",
    "trainX.shape, testX.shape"
   ]
  },
  {
   "cell_type": "code",
   "execution_count": 133,
   "metadata": {},
   "outputs": [
    {
     "data": {
      "text/plain": [
       "((1347,), (450,))"
      ]
     },
     "execution_count": 133,
     "metadata": {},
     "output_type": "execute_result"
    }
   ],
   "source": [
    "# saídas de treino e teste\n",
    "trainY.shape, testY.shape"
   ]
  },
  {
   "cell_type": "code",
   "execution_count": 134,
   "metadata": {},
   "outputs": [
    {
     "data": {
      "text/plain": [
       "array([5, 2, 0, ..., 2, 7, 1])"
      ]
     },
     "execution_count": 134,
     "metadata": {},
     "output_type": "execute_result"
    }
   ],
   "source": [
    "# olhando o estado da variavel trainY\n",
    "trainY"
   ]
  },
  {
   "cell_type": "code",
   "execution_count": 135,
   "metadata": {},
   "outputs": [],
   "source": [
    "# convertendo as saídas para vetores binários\n",
    "trainY = LabelBinarizer().fit_transform(trainY)\n",
    "testY = LabelBinarizer().fit_transform(testY)"
   ]
  },
  {
   "cell_type": "code",
   "execution_count": 136,
   "metadata": {},
   "outputs": [
    {
     "data": {
      "text/plain": [
       "array([0, 0, 0, 0, 0, 1, 0, 0, 0, 0])"
      ]
     },
     "execution_count": 136,
     "metadata": {},
     "output_type": "execute_result"
    }
   ],
   "source": [
    "# o target 0 vira [1, 0, 0, 0, 0, 0, 0, 0, 0, 0]\n",
    "# o target 1 vira [0, 1, 0, 0, 0, 0, 0, 0, 0, 0]\n",
    "# o target 2 vira [0, 0, 1, 0, 0, 0, 0, 0, 0, 0]\n",
    "# o target 3 vira [0, 0, 0, 1, 0, 0, 0, 0, 0, 0]\n",
    "# o target 4 vira [0, 0, 0, 0, 1, 0, 0, 0, 0, 0]\n",
    "# o target 5 vira [0, 0, 0, 0, 0, 1, 0, 0, 0, 0]\n",
    "# o target 6 vira [0, 0, 0, 0, 0, 0, 1, 0, 0, 0]\n",
    "# o target 7 vira [0, 0, 0, 0, 0, 0, 0, 1, 0, 0]\n",
    "# o target 8 vira [0, 0, 0, 0, 0, 0, 0, 0, 1, 0]\n",
    "# o target 9 vira [0, 0, 0, 0, 0, 0, 0, 0, 0, 1]\n",
    "\n",
    "# isto é o target '5'\n",
    "trainY[0]"
   ]
  },
  {
   "cell_type": "code",
   "execution_count": 137,
   "metadata": {},
   "outputs": [
    {
     "data": {
      "text/plain": [
       "array([ 0.,  0.,  2., 15., 15., 16., 11.,  0.,  0.,  0.,  8., 16., 11.,\n",
       "        3.,  0.,  0.,  0.,  0., 13.,  9.,  0.,  0.,  0.,  0.,  0.,  5.,\n",
       "       16.,  3.,  9., 11.,  3.,  0.,  0., 10., 15., 15., 16., 16., 11.,\n",
       "        0.,  0.,  6., 16., 10.,  7., 16.,  5.,  0.,  0.,  0.,  3.,  4.,\n",
       "       15.,  8.,  0.,  0.,  0.,  0.,  4., 15.,  7.,  0.,  0.,  0.])"
      ]
     },
     "execution_count": 137,
     "metadata": {},
     "output_type": "execute_result"
    }
   ],
   "source": [
    "# imagem pareada com o target '5' acima\n",
    "trainX[0]"
   ]
  },
  {
   "cell_type": "code",
   "execution_count": 138,
   "metadata": {},
   "outputs": [
    {
     "data": {
      "image/png": "[encoded data removed]",
      "text/plain": [
       "<Figure size 640x480 with 1 Axes>"
      ]
     },
     "metadata": {},
     "output_type": "display_data"
    }
   ],
   "source": [
    "# mostrando a imagem (8x8) através do matplotlib\n",
    "plt.imshow(trainX[0].reshape(8, 8), cmap=\"gray\")\n",
    "plt.show()"
   ]
  },
  {
   "cell_type": "code",
   "execution_count": 139,
   "metadata": {},
   "outputs": [
    {
     "data": {
      "text/plain": [
       "array([0, 0, 0, 0, 0, 0, 1, 0, 0, 0])"
      ]
     },
     "execution_count": 139,
     "metadata": {},
     "output_type": "execute_result"
    }
   ],
   "source": [
    "# isto é um '6'\n",
    "testY[0]"
   ]
  },
  {
   "cell_type": "code",
   "execution_count": 140,
   "metadata": {},
   "outputs": [
    {
     "data": {
      "text/plain": [
       "array([ 0.,  0.,  0.,  7., 12.,  0.,  0.,  0.,  0.,  0.,  4., 16.,  8.,\n",
       "        0.,  0.,  0.,  0.,  0., 12., 11.,  0.,  0.,  0.,  0.,  0.,  0.,\n",
       "       15., 10.,  8.,  6.,  1.,  0.,  0.,  0., 15., 16.,  8., 10.,  8.,\n",
       "        0.,  0.,  0., 14.,  7.,  0.,  0., 12.,  0.,  0.,  0.,  8., 11.,\n",
       "        0.,  5., 16.,  2.,  0.,  0.,  0.,  9., 14., 14.,  5.,  0.])"
      ]
     },
     "execution_count": 140,
     "metadata": {},
     "output_type": "execute_result"
    }
   ],
   "source": [
    "# imagem pareada com o target '6' acima\n",
    "testX[0]"
   ]
  },
  {
   "cell_type": "code",
   "execution_count": 141,
   "metadata": {},
   "outputs": [
    {
     "data": {
      "image/png": "[encoded data removed]",
      "text/plain": [
       "<Figure size 640x480 with 1 Axes>"
      ]
     },
     "metadata": {},
     "output_type": "display_data"
    }
   ],
   "source": [
    "# mostrando a imagem (8x8) através do matplotlib\n",
    "plt.imshow(testX[0].reshape(8, 8), cmap=\"gray\")\n",
    "plt.show()"
   ]
  },
  {
   "cell_type": "markdown",
   "metadata": {},
   "source": [
    "### Agora, o dataset MNIST foi adaptado para ter ``64 pixels`` de entrada e ``10 classes`` de saída"
   ]
  },
  {
   "cell_type": "code",
   "execution_count": 142,
   "metadata": {},
   "outputs": [],
   "source": [
    "nn = BackPropagation(\n",
    "    entradas=trainX,\n",
    "    saidas=trainY,\n",
    "    camadas=[32, 16],\n",
    "    lr=0.01,\n",
    "    decaimento=0.0001,\n",
    "    seed=44\n",
    ")"
   ]
  },
  {
   "cell_type": "code",
   "execution_count": 143,
   "metadata": {},
   "outputs": [
    {
     "data": {
      "text/plain": [
       "(64, 32, 16, 10)"
      ]
     },
     "execution_count": 143,
     "metadata": {},
     "output_type": "execute_result"
    }
   ],
   "source": [
    "# checando as camadas de entrada, escondidas e saída\n",
    "nn.camadas"
   ]
  },
  {
   "cell_type": "code",
   "execution_count": 144,
   "metadata": {},
   "outputs": [
    {
     "name": "stdout",
     "output_type": "stream",
     "text": [
      "BackPropagation(entradas=(1347, 64), saidas=(1347, 10), camadas=(64, 32, 16, 10), lr=0.01, decaimento=0.0001)\n"
     ]
    }
   ],
   "source": [
    "print(nn)"
   ]
  },
  {
   "cell_type": "code",
   "execution_count": 145,
   "metadata": {},
   "outputs": [
    {
     "name": "stdout",
     "output_type": "stream",
     "text": [
      "Epoca: 100 (100%), LR: 0.010, Erro: 0.0053043\r"
     ]
    }
   ],
   "source": [
    "nn.treinar(epocas=100, mostrar_resultados_a_cada=0.05)"
   ]
  },
  {
   "cell_type": "code",
   "execution_count": 146,
   "metadata": {},
   "outputs": [
    {
     "data": {
      "text/plain": [
       "array([3.77789760e-02, 4.96118573e-02, 2.47002854e-02, 5.01509921e-02,\n",
       "       2.67922228e-02, 5.11337482e-03, 9.60185911e-01, 6.35437137e-04,\n",
       "       1.25900614e-02, 1.35759801e-02])"
      ]
     },
     "execution_count": 146,
     "metadata": {},
     "output_type": "execute_result"
    }
   ],
   "source": [
    "# predizendo a primeira saida da base de teste\n",
    "nn.predizer(testX)[0]"
   ]
  },
  {
   "cell_type": "markdown",
   "metadata": {},
   "source": [
    "### Acima, deve ser entendido como as 'probabilidades' de associação para cada classe. Ou seja, a classe com ``maior`` probabilidade associada é a classe que o modelo acredita ser a ``correta``."
   ]
  },
  {
   "cell_type": "code",
   "execution_count": 147,
   "metadata": {},
   "outputs": [
    {
     "data": {
      "text/plain": [
       "6"
      ]
     },
     "execution_count": 147,
     "metadata": {},
     "output_type": "execute_result"
    }
   ],
   "source": [
    "# a função argmax retorna o indice do maior valor do array\n",
    "np.argmax(nn.predizer(testX)[0])"
   ]
  },
  {
   "cell_type": "code",
   "execution_count": 148,
   "metadata": {},
   "outputs": [
    {
     "data": {
      "text/plain": [
       "6"
      ]
     },
     "execution_count": 148,
     "metadata": {},
     "output_type": "execute_result"
    }
   ],
   "source": [
    "# checando se a predição é igual ao alvo 'target'\n",
    "np.argmax(testY[0])"
   ]
  },
  {
   "cell_type": "code",
   "execution_count": 149,
   "metadata": {},
   "outputs": [
    {
     "data": {
      "text/plain": [
       "9"
      ]
     },
     "execution_count": 149,
     "metadata": {},
     "output_type": "execute_result"
    }
   ],
   "source": [
    "# predizendo a segunda saida da base de teste\n",
    "np.argmax(nn.predizer(testX)[1])"
   ]
  },
  {
   "cell_type": "code",
   "execution_count": 150,
   "metadata": {},
   "outputs": [
    {
     "data": {
      "text/plain": [
       "9"
      ]
     },
     "execution_count": 150,
     "metadata": {},
     "output_type": "execute_result"
    }
   ],
   "source": [
    "# checando se a predição é igual ao alvo 'target'\n",
    "np.argmax(testY[1])"
   ]
  },
  {
   "cell_type": "code",
   "execution_count": 151,
   "metadata": {},
   "outputs": [
    {
     "data": {
      "text/plain": [
       "array([6, 9, 3, 7, 2, 1, 5, 2, 5, 2, 1, 9, 4, 0, 4, 2, 3, 7, 8, 8, 4, 3,\n",
       "       9, 7, 5, 6, 3, 5, 6, 3, 4, 9, 1, 4, 4, 6, 9, 4, 7, 6, 6, 9, 1, 3,\n",
       "       6, 1, 3, 0, 6, 5, 5, 1, 9, 5, 6, 0, 2, 0, 0, 1, 2, 4, 5, 2, 4, 5,\n",
       "       7, 0, 7, 5, 9, 6, 5, 4, 7, 0, 4, 5, 5, 9, 9, 0, 2, 3, 8, 0, 6, 4,\n",
       "       4, 9, 1, 2, 8, 3, 5, 2, 9, 0, 4, 4, 4, 3, 5, 3, 1, 8, 5, 1, 4, 2,\n",
       "       7, 7, 4, 4, 1, 9, 8, 7, 8, 7, 2, 6, 9, 4, 0, 7, 2, 7, 5, 8, 7, 5,\n",
       "       7, 9, 0, 6, 6, 4, 2, 8, 0, 9, 4, 6, 9, 9, 6, 9, 0, 5, 5, 6, 6, 0,\n",
       "       6, 4, 9, 9, 3, 8, 7, 2, 9, 0, 4, 5, 8, 6, 5, 8, 9, 8, 4, 2, 1, 3,\n",
       "       7, 7, 2, 2, 3, 9, 8, 0, 3, 2, 2, 5, 6, 9, 9, 4, 1, 2, 4, 2, 3, 6,\n",
       "       4, 8, 5, 9, 5, 7, 8, 9, 4, 8, 1, 5, 4, 4, 9, 6, 1, 8, 6, 0, 4, 5,\n",
       "       2, 7, 4, 6, 4, 5, 6, 0, 3, 2, 3, 6, 7, 9, 9, 1, 4, 7, 6, 5, 1, 5,\n",
       "       5, 1, 0, 2, 8, 8, 9, 5, 7, 6, 2, 2, 2, 3, 4, 8, 8, 3, 6, 0, 2, 7,\n",
       "       7, 0, 1, 0, 4, 5, 1, 5, 3, 6, 0, 4, 1, 0, 0, 9, 6, 5, 9, 7, 3, 5,\n",
       "       9, 9, 9, 8, 5, 3, 3, 2, 0, 5, 8, 3, 4, 0, 1, 4, 6, 4, 3, 4, 5, 0,\n",
       "       5, 2, 1, 3, 1, 4, 1, 1, 7, 0, 1, 5, 2, 1, 2, 8, 7, 0, 6, 4, 8, 8,\n",
       "       5, 1, 8, 4, 5, 8, 7, 9, 8, 5, 0, 6, 2, 0, 7, 9, 1, 9, 5, 2, 7, 7,\n",
       "       9, 8, 7, 4, 3, 8, 3, 5, 6, 0, 0, 3, 0, 5, 0, 0, 4, 1, 2, 3, 4, 5,\n",
       "       8, 6, 3, 1, 8, 8, 4, 2, 3, 8, 9, 8, 8, 5, 0, 6, 3, 3, 7, 1, 6, 4,\n",
       "       6, 2, 1, 8, 5, 4, 7, 4, 8, 3, 4, 0, 5, 1, 9, 4, 5, 7, 6, 3, 7, 0,\n",
       "       5, 9, 7, 5, 9, 7, 4, 2, 2, 9, 0, 7, 5, 8, 3, 6, 3, 9, 6, 9, 5, 0,\n",
       "       1, 5, 5, 8, 3, 3, 6, 2, 6, 5], dtype=int64)"
      ]
     },
     "execution_count": 151,
     "metadata": {},
     "output_type": "execute_result"
    }
   ],
   "source": [
    "# realizando a predição em todas as lições dentro da variável 'testX' e obtendo o \n",
    "# indice do maior valor do array na dimensão (axis) 1\n",
    "predicoes = nn.predizer(testX).argmax(axis=1)\n",
    "predicoes"
   ]
  },
  {
   "cell_type": "code",
   "execution_count": 152,
   "metadata": {},
   "outputs": [
    {
     "data": {
      "text/plain": [
       "array([6, 9, 3, 7, 2, 1, 5, 2, 5, 2, 1, 9, 4, 0, 4, 2, 3, 7, 8, 8, 4, 3,\n",
       "       9, 7, 5, 6, 3, 5, 6, 3, 4, 9, 1, 4, 4, 6, 9, 4, 7, 6, 6, 9, 1, 3,\n",
       "       6, 1, 3, 0, 6, 5, 5, 1, 9, 5, 6, 0, 9, 0, 0, 1, 0, 4, 5, 2, 4, 5,\n",
       "       7, 0, 7, 5, 9, 5, 5, 4, 7, 0, 4, 5, 5, 9, 9, 0, 2, 3, 8, 0, 6, 4,\n",
       "       4, 9, 1, 2, 8, 3, 5, 2, 9, 0, 4, 4, 4, 3, 5, 3, 1, 3, 5, 9, 4, 2,\n",
       "       7, 7, 4, 4, 1, 9, 2, 7, 8, 7, 2, 6, 9, 4, 0, 7, 2, 7, 5, 8, 7, 5,\n",
       "       7, 7, 0, 6, 6, 4, 2, 8, 0, 9, 4, 6, 9, 9, 6, 9, 0, 3, 5, 6, 6, 0,\n",
       "       6, 4, 3, 9, 3, 9, 7, 2, 9, 0, 4, 5, 3, 6, 5, 9, 9, 8, 4, 2, 1, 3,\n",
       "       7, 7, 2, 2, 3, 9, 8, 0, 3, 2, 2, 5, 6, 9, 9, 4, 1, 5, 4, 2, 3, 6,\n",
       "       4, 8, 5, 9, 5, 7, 8, 9, 4, 8, 1, 5, 4, 4, 9, 6, 1, 8, 6, 0, 4, 5,\n",
       "       2, 7, 4, 6, 4, 5, 6, 0, 3, 2, 3, 6, 7, 1, 5, 1, 4, 7, 6, 8, 8, 5,\n",
       "       5, 1, 6, 2, 8, 8, 9, 9, 7, 6, 2, 2, 2, 3, 4, 8, 8, 3, 6, 0, 9, 7,\n",
       "       7, 0, 1, 0, 4, 5, 1, 5, 3, 6, 0, 4, 1, 0, 0, 3, 6, 5, 9, 7, 3, 5,\n",
       "       5, 9, 9, 8, 5, 3, 3, 2, 0, 5, 8, 3, 4, 0, 2, 4, 6, 4, 3, 4, 5, 0,\n",
       "       5, 2, 1, 3, 1, 4, 1, 1, 7, 0, 1, 5, 2, 1, 2, 8, 7, 0, 6, 4, 8, 8,\n",
       "       5, 1, 8, 4, 5, 8, 7, 9, 8, 5, 0, 6, 2, 0, 7, 9, 8, 9, 5, 2, 7, 7,\n",
       "       1, 8, 7, 4, 3, 8, 3, 5, 6, 0, 0, 3, 0, 5, 0, 0, 4, 1, 2, 8, 4, 5,\n",
       "       9, 6, 3, 1, 8, 8, 4, 2, 3, 8, 9, 8, 8, 5, 0, 6, 3, 3, 7, 1, 6, 4,\n",
       "       1, 2, 1, 1, 6, 4, 7, 4, 8, 3, 4, 0, 5, 1, 9, 4, 5, 7, 6, 3, 7, 0,\n",
       "       5, 9, 7, 5, 9, 7, 4, 2, 1, 9, 0, 7, 5, 3, 3, 6, 3, 9, 6, 9, 5, 0,\n",
       "       1, 5, 5, 8, 3, 3, 6, 2, 6, 5], dtype=int64)"
      ]
     },
     "execution_count": 152,
     "metadata": {},
     "output_type": "execute_result"
    }
   ],
   "source": [
    "# transformando as saidas de teste com argmax\n",
    "testY.argmax(axis=1)"
   ]
  },
  {
   "cell_type": "code",
   "execution_count": 153,
   "metadata": {},
   "outputs": [
    {
     "data": {
      "text/plain": [
       "array([ True,  True,  True,  True,  True,  True,  True,  True,  True,\n",
       "        True,  True,  True,  True,  True,  True,  True,  True,  True,\n",
       "        True,  True,  True,  True,  True,  True,  True,  True,  True,\n",
       "        True,  True,  True,  True,  True,  True,  True,  True,  True,\n",
       "        True,  True,  True,  True,  True,  True,  True,  True,  True,\n",
       "        True,  True,  True,  True,  True,  True,  True,  True,  True,\n",
       "        True,  True, False,  True,  True,  True, False,  True,  True,\n",
       "        True,  True,  True,  True,  True,  True,  True,  True, False,\n",
       "        True,  True,  True,  True,  True,  True,  True,  True,  True,\n",
       "        True,  True,  True,  True,  True,  True,  True,  True,  True,\n",
       "        True,  True,  True,  True,  True,  True,  True,  True,  True,\n",
       "        True,  True,  True,  True,  True,  True, False,  True, False,\n",
       "        True,  True,  True,  True,  True,  True,  True,  True, False,\n",
       "        True,  True,  True,  True,  True,  True,  True,  True,  True,\n",
       "        True,  True,  True,  True,  True,  True,  True, False,  True,\n",
       "        True,  True,  True,  True,  True,  True,  True,  True,  True,\n",
       "        True,  True,  True,  True,  True, False,  True,  True,  True,\n",
       "        True,  True,  True, False,  True,  True, False,  True,  True,\n",
       "        True,  True,  True,  True, False,  True,  True, False,  True,\n",
       "        True,  True,  True,  True,  True,  True,  True,  True,  True,\n",
       "        True,  True,  True,  True,  True,  True,  True,  True,  True,\n",
       "        True,  True,  True,  True, False,  True,  True,  True,  True,\n",
       "        True,  True,  True,  True,  True,  True,  True,  True,  True,\n",
       "        True,  True,  True,  True,  True,  True,  True,  True,  True,\n",
       "        True,  True,  True,  True,  True,  True,  True,  True,  True,\n",
       "        True,  True,  True,  True,  True,  True,  True,  True, False,\n",
       "       False,  True,  True,  True,  True, False, False,  True,  True,\n",
       "        True, False,  True,  True,  True,  True, False,  True,  True,\n",
       "        True,  True,  True,  True,  True,  True,  True,  True,  True,\n",
       "        True, False,  True,  True,  True,  True,  True,  True,  True,\n",
       "        True,  True,  True,  True,  True,  True,  True,  True,  True,\n",
       "       False,  True,  True,  True,  True,  True,  True, False,  True,\n",
       "        True,  True,  True,  True,  True,  True,  True,  True,  True,\n",
       "        True,  True,  True, False,  True,  True,  True,  True,  True,\n",
       "        True,  True,  True,  True,  True,  True,  True,  True,  True,\n",
       "        True,  True,  True,  True,  True,  True,  True,  True,  True,\n",
       "        True,  True,  True,  True,  True,  True,  True,  True,  True,\n",
       "        True,  True,  True,  True,  True,  True,  True,  True,  True,\n",
       "        True,  True,  True,  True, False,  True,  True,  True,  True,\n",
       "        True, False,  True,  True,  True,  True,  True,  True,  True,\n",
       "        True,  True,  True,  True,  True,  True,  True,  True,  True,\n",
       "        True,  True, False,  True,  True, False,  True,  True,  True,\n",
       "        True,  True,  True,  True,  True,  True,  True,  True,  True,\n",
       "        True,  True,  True,  True,  True,  True,  True,  True,  True,\n",
       "       False,  True,  True, False, False,  True,  True,  True,  True,\n",
       "        True,  True,  True,  True,  True,  True,  True,  True,  True,\n",
       "        True,  True,  True,  True,  True,  True,  True,  True,  True,\n",
       "        True,  True,  True, False,  True,  True,  True,  True, False,\n",
       "        True,  True,  True,  True,  True,  True,  True,  True,  True,\n",
       "        True,  True,  True,  True,  True,  True,  True,  True,  True])"
      ]
     },
     "execution_count": 153,
     "metadata": {},
     "output_type": "execute_result"
    }
   ],
   "source": [
    "# comparando as predições com as saídas de teste\n",
    "predicoes == testY.argmax(axis=1)"
   ]
  },
  {
   "cell_type": "code",
   "execution_count": 154,
   "metadata": {},
   "outputs": [
    {
     "name": "stdout",
     "output_type": "stream",
     "text": [
      "              precision    recall  f1-score   support\n",
      "\n",
      "           0       0.98      0.98      0.98        43\n",
      "           1       0.89      0.86      0.88        37\n",
      "           2       0.88      0.95      0.91        38\n",
      "           3       0.98      0.87      0.92        46\n",
      "           4       1.00      1.00      1.00        55\n",
      "           5       0.93      0.93      0.93        59\n",
      "           6       0.96      0.96      0.96        45\n",
      "           7       1.00      0.98      0.99        41\n",
      "           8       0.81      0.89      0.85        38\n",
      "           9       0.85      0.85      0.85        48\n",
      "\n",
      "    accuracy                           0.93       450\n",
      "   macro avg       0.93      0.93      0.93       450\n",
      "weighted avg       0.93      0.93      0.93       450\n",
      "\n"
     ]
    }
   ],
   "source": [
    "# obtendo um relatório de classificação\n",
    "print(classification_report(y_true=testY.argmax(axis=1), \n",
    "                            y_pred=predicoes))"
   ]
  },
  {
   "cell_type": "markdown",
   "metadata": {},
   "source": [
    "### ``Sempre`` (1.00) que o modelo previu que era o número **7**, ele estava correto (Precision). Mas, ``nem sempre`` (0.98) que era o número 7 ele não previu corretamente (Recall)."
   ]
  },
  {
   "cell_type": "markdown",
   "metadata": {},
   "source": [
    "## Matriz de Confusão\n",
    "<img src=\"matriz_confusao.png\">"
   ]
  },
  {
   "cell_type": "markdown",
   "metadata": {},
   "source": [
    "---\n",
    "# $ Accuracy = \\frac{TP + TN}{TP + TN + FP + FN} $\n",
    "\n",
    "### Onde:\n",
    "- $TP$ = Positivos Verdadeiros (Número de positivos corretamente classificados)\n",
    "- $TN$ = Positivos Negativos (Número de negativos corretamente classificados)\n",
    "- $FP$ = Falsos Positivos (Número de positivos incorretamente classificados)\n",
    "- $FN$ = Falsos Negativos (Número de negativos incorretamente classificados)\n",
    "\n",
    "### Percentual de verdadeiros positivos e negativos em relação ao total de amostras."
   ]
  },
  {
   "cell_type": "markdown",
   "metadata": {},
   "source": [
    "---\n",
    "# $precision = \\frac{TP}{TP+FP}$\n",
    "\n",
    "### Onde:\n",
    "- $TP$ = Positivos Verdadeiros (Número de positivos corretamente classificados)\n",
    "- $FN$ = Falsos Negativos (Número de negativos incorretamente classificados)\n",
    "\n",
    "### Percentual de positivos corretamente classificados dentro do total de positivos classificados pelo modelo."
   ]
  },
  {
   "cell_type": "markdown",
   "metadata": {},
   "source": [
    "---\n",
    "# $recall = \\frac{TP}{TP+FN}$\n",
    "\n",
    "### Onde:\n",
    "- $TP$ = Positivos Verdadeiros (Número de positivos corretamente classificados)\n",
    "- $FP$ = Falsos Positivos (Número de negativos incorretamente classificados como positivos)\n",
    "\n",
    "### Percentual de positivos corretamente classificados dentro do total de positivos que deveriam ter sido classificados pelo modelo."
   ]
  },
  {
   "cell_type": "markdown",
   "metadata": {},
   "source": [
    "---\n",
    "# $f1\\_score = 2 \\times \\frac{precision \\times recall}{precision + recall}$\n",
    "\n",
    "### Média harmônica entre ``precision`` e ``recall``."
   ]
  },
  {
   "cell_type": "markdown",
   "metadata": {},
   "source": [
    "---\n",
    "# Suporte é número de **ocorrências** de cada classe na amostra de ``teste``"
   ]
  },
  {
   "cell_type": "code",
   "execution_count": null,
   "metadata": {},
   "outputs": [],
   "source": [
    "# mostrando o histórico de erros da rede neural ao longo das épocas\n",
    "plt.figure(figsize=(10, 3))\n",
    "plt.xlabel(\"Épocas\", rotation=0, labelpad=20, fontsize=10, \n",
    "           fontweight=\"regular\")\n",
    "plt.ylabel(\"Erro\", rotation=0, labelpad=20, fontsize=10, \n",
    "           fontweight=\"regular\")\n",
    "plt.title(f\"Histórico de Erros da Rede Neural\\n{nn}\", \n",
    "          fontsize=10, fontweight=\"bold\", loc=\"center\", pad=20)\n",
    "plt.plot(nn.historico_erros, label=\"Erro\", color=\"blue\", linewidth=1, \n",
    "         linestyle=\"-\")\n",
    "plt.legend()\n",
    "plt.grid()\n",
    "plt.show()"
   ]
  },
  {
   "cell_type": "markdown",
   "metadata": {},
   "source": [
    "---\n",
    "## Testando o modelo com Cross-Validation"
   ]
  },
  {
   "cell_type": "code",
   "execution_count": null,
   "metadata": {},
   "outputs": [],
   "source": [
    "# mostrando as duas linhas iniciais da base de dados\n",
    "entradas[:2]"
   ]
  },
  {
   "cell_type": "code",
   "execution_count": null,
   "metadata": {},
   "outputs": [],
   "source": [
    "# as saídas estão todas em ordem, é recomendado embaralhar\n",
    "saidas[:10]"
   ]
  },
  {
   "cell_type": "code",
   "execution_count": null,
   "metadata": {},
   "outputs": [],
   "source": [
    "# quebrando as entradas em 10 divisões para cross-validation\n",
    "qtd_divisoes = 3\n",
    "entradas_divididas = np.array_split(entradas, qtd_divisoes)"
   ]
  },
  {
   "cell_type": "code",
   "execution_count": null,
   "metadata": {},
   "outputs": [],
   "source": [
    "# retorna uma lista com 10 arrays\n",
    "type(entradas_divididas), len(entradas_divididas)"
   ]
  },
  {
   "cell_type": "code",
   "execution_count": null,
   "metadata": {},
   "outputs": [],
   "source": [
    "# checando o shape do primeiro array de entradas\n",
    "entradas_divididas[0].shape"
   ]
  },
  {
   "cell_type": "code",
   "execution_count": null,
   "metadata": {},
   "outputs": [],
   "source": [
    "# checando o shape do segundo array de entradas\n",
    "entradas_divididas[1].shape"
   ]
  },
  {
   "cell_type": "code",
   "execution_count": null,
   "metadata": {},
   "outputs": [],
   "source": [
    "# checando o shape do terceiro array de entradas\n",
    "entradas_divididas[2].shape"
   ]
  },
  {
   "cell_type": "code",
   "execution_count": null,
   "metadata": {},
   "outputs": [],
   "source": [
    "# dividindo as saidas também em 3 divisões\n",
    "saidas_divididas = np.array_split(saidas, qtd_divisoes)"
   ]
  },
  {
   "cell_type": "code",
   "execution_count": null,
   "metadata": {},
   "outputs": [],
   "source": [
    "# checando o shape do primeiro array de saídas\n",
    "saidas_divididas[0].shape"
   ]
  },
  {
   "cell_type": "code",
   "execution_count": null,
   "metadata": {},
   "outputs": [],
   "source": [
    "# checando o shape do segundo array de saídas\n",
    "saidas_divididas[1].shape"
   ]
  },
  {
   "cell_type": "code",
   "execution_count": null,
   "metadata": {},
   "outputs": [],
   "source": [
    "# checando o shape do terceiro array de saídas\n",
    "saidas_divididas[2].shape"
   ]
  },
  {
   "cell_type": "code",
   "execution_count": null,
   "metadata": {},
   "outputs": [],
   "source": [
    "# cria um array com a quantidade de divisões para armazenar as acurácias\n",
    "acuracias = np.zeros(shape=qtd_divisoes, dtype=np.float32)\n",
    "\n",
    "# zip pareia as entradas e saídas divididas\n",
    "for indice, (entrada, saida) in enumerate(zip(entradas_divididas, saidas_divididas)):\n",
    "    print(f\"Rodada {indice + 1}\")\n",
    "\n",
    "    # binariza as saídas\n",
    "    saida_binarizada = LabelBinarizer().fit_transform(saida)\n",
    "    \n",
    "    # separa as entradas e saídas em treino e teste (75% treino, 25% teste) e embaralha os dados para não haver viés de sequência\n",
    "    trainX, testX, trainY, testY = \\\n",
    "        train_test_split(entrada, saida_binarizada, test_size=0.25, random_state=42)\n",
    "\n",
    "    # cria o objeto da rede neural\n",
    "    nn = BackPropagation(\n",
    "        entradas=trainX,\n",
    "        saidas=trainY,\n",
    "        camadas=[32, 16],\n",
    "        lr=0.01,\n",
    "        decaimento=0.0001,\n",
    "        seed=42\n",
    "    )\n",
    "\n",
    "    # treina o objeto da rede neural\n",
    "    nn.treinar(epocas=300, mostrar_resultados_a_cada=0.05)\n",
    "\n",
    "    # faz a predição das entradas\n",
    "    predicoes = nn.predizer(testX).argmax(axis=1)\n",
    "\n",
    "    # calcula a acurácia das predições\n",
    "    acuracia = (predicoes == testY.argmax(axis=1)).sum() / len(predicoes)\n",
    "\n",
    "    # armazena a acurácia na lista de acurácias\n",
    "    acuracias[indice] = acuracia\n",
    "\n",
    "    print(\"\")"
   ]
  },
  {
   "cell_type": "code",
   "execution_count": null,
   "metadata": {},
   "outputs": [],
   "source": [
    "# mostra a acurácia média das predições\n",
    "acuracias.mean()"
   ]
  },
  {
   "cell_type": "code",
   "execution_count": null,
   "metadata": {},
   "outputs": [],
   "source": [
    "def cross_validation(entradas: np.ndarray, saidas: np.ndarray,\n",
    "                        k_folds: int, epocas: int, \n",
    "                        mostrar_resultados_a_cada: float,\n",
    "                        camadas: list, lr: float, \n",
    "                        decaimento: float,\n",
    "                        seed: int = 42) -> list:\n",
    "    \"\"\"\n",
    "    Realiza a validação cruzada para avaliar a acurácia média da rede neural\n",
    "\n",
    "    :param entradas: array 2D com as entradas da base de dados\n",
    "    :param saidas: array 2D com as saídas da base de dados\n",
    "    :param k_folds: quantidade de divisões para a validação cruzada\n",
    "    :param epocas: quantidade de épocas para treinar a rede neural\n",
    "    :param mostrar_resultados_a_cada: porcentagem de épocas para mostrar\n",
    "    :param camadas: lista com a quantidade de neurônios em cada camada escondida\n",
    "    :param lr: taxa de aprendizado para amortizar os gradientes\n",
    "    :param decaimento: valor para decair a taxa de aprendizado a cada época\n",
    "\n",
    "    :return: acurácia média dos k-folds\n",
    "    \"\"\"\n",
    "\n",
    "    # divide as entradas e saídas em k partes\n",
    "    entradas_divididas = np.array_split(entradas, k_folds)\n",
    "    saidas_divididas = np.array_split(saidas, k_folds)\n",
    "\n",
    "    # inicializa um array que vai receber as acurácias de cada rodada\n",
    "    acuracias = np.zeros(shape=k_folds, dtype=np.float32)\n",
    "    for indice, (entrada, saida) in enumerate(zip(entradas_divididas, saidas_divididas)):\n",
    "        print(f\"Rodada {indice + 1}\")\n",
    "\n",
    "        # binariza as saídas \n",
    "        saida_binarizada = LabelBinarizer().fit_transform(saida)\n",
    "\n",
    "        # separa as entradas e saídas em treino e teste (75% treino, 25% teste).\n",
    "        trainX, testX, trainY, testY = \\\n",
    "            train_test_split(entrada, saida_binarizada, test_size=0.25, random_state=42)\n",
    "\n",
    "        # cria o objeto da rede neural\n",
    "        nn = BackPropagation(\n",
    "            entradas=trainX,\n",
    "            saidas=trainY,\n",
    "            camadas=camadas,\n",
    "            lr=lr,\n",
    "            decaimento=decaimento,\n",
    "            seed=seed\n",
    "        )\n",
    "\n",
    "        # treina o objeto da rede neural\n",
    "        nn.treinar(epocas=epocas, \n",
    "                   mostrar_resultados_a_cada=mostrar_resultados_a_cada)\n",
    "\n",
    "        # faz a predição das entradas\n",
    "        predicoes = nn.predizer(testX).argmax(axis=1)\n",
    "\n",
    "        # calcula a acurácia das predições\n",
    "        acuracia = np.mean(predicoes == testY.argmax(axis=1))\n",
    "\n",
    "        # armazena a acurácia na lista de acurácias\n",
    "        acuracias[indice] = acuracia\n",
    "\n",
    "        print(\"\")\n",
    "        print(f\"acuracia: {acuracia}\")\n",
    "        print(\"-\" * 100)\n",
    "    \n",
    "    return acuracias.mean()"
   ]
  },
  {
   "cell_type": "code",
   "execution_count": null,
   "metadata": {},
   "outputs": [],
   "source": [
    "acuracia_media = cross_validation(entradas=entradas,\n",
    "                                    saidas=saidas,\n",
    "                                    k_folds=3,\n",
    "                                    epocas=500,\n",
    "                                    mostrar_resultados_a_cada=0.05,\n",
    "                                    camadas=[32, 16],\n",
    "                                    lr=0.01,\n",
    "                                    decaimento=0.00001,\n",
    "                                    seed=1)\n",
    "acuracia_media"
   ]
  },
  {
   "cell_type": "markdown",
   "metadata": {},
   "source": [
    "### Valos realizar o teste do modelo agora deixando as saídas com uma coluna apenas e normalizada (0-9) -> (0-1)"
   ]
  },
  {
   "cell_type": "code",
   "execution_count": null,
   "metadata": {},
   "outputs": [],
   "source": [
    "# checando as entradas\n",
    "entradas"
   ]
  },
  {
   "cell_type": "code",
   "execution_count": null,
   "metadata": {},
   "outputs": [],
   "source": [
    "# checando as saídas\n",
    "saidas"
   ]
  },
  {
   "cell_type": "code",
   "execution_count": null,
   "metadata": {},
   "outputs": [],
   "source": [
    "# as saídas devem estar no shape 2D (n_amostras, 1)\n",
    "saidas = np.atleast_2d(saidas).T\n",
    "saidas"
   ]
  },
  {
   "cell_type": "code",
   "execution_count": null,
   "metadata": {},
   "outputs": [],
   "source": [
    "def normalizacao_min_max(entradas: np.ndarray) -> np.ndarray:\n",
    "    \"\"\"\n",
    "    Normaliza as entradas entre 0 e 1\n",
    "\n",
    "    :param entradas: array 2D com as entradas da base de dados\n",
    "    :return: array 2D com as entradas normalizadas\n",
    "    \"\"\"\n",
    "    return (entradas - entradas.min()) / (entradas.max() - entradas.min())"
   ]
  },
  {
   "cell_type": "code",
   "execution_count": null,
   "metadata": {},
   "outputs": [],
   "source": [
    "def desnormalizacao_min_max(entradas_normalizadas: np.ndarray, \n",
    "                            entradas: np.ndarray) -> np.ndarray:\n",
    "    \"\"\"\n",
    "    Desnormaliza as entradas entre 0 e 1\n",
    "\n",
    "    :param entradas_normalizadas: array 2D com as entradas normalizadas\n",
    "    :param entradas: array 2D com as entradas da base de dados\n",
    "    :return: array 2D com as entradas desnormalizadas\n",
    "    \"\"\"\n",
    "    return entradas_normalizadas * (entradas.max() - entradas.min()) + entradas.min()"
   ]
  },
  {
   "cell_type": "code",
   "execution_count": null,
   "metadata": {},
   "outputs": [],
   "source": [
    "# normalizando as saídas\n",
    "saidas_normalizadas = normalizacao_min_max(saidas)\n",
    "saidas_normalizadas"
   ]
  },
  {
   "cell_type": "code",
   "execution_count": null,
   "metadata": {},
   "outputs": [],
   "source": [
    "# separando as entradas e saídas em treino e teste (75% treino, 25% teste).\n",
    "trainX, testX, trainY, testY = \\\n",
    "    train_test_split(entradas, saidas_normalizadas, test_size=0.25, random_state=42)"
   ]
  },
  {
   "cell_type": "code",
   "execution_count": null,
   "metadata": {},
   "outputs": [],
   "source": [
    "# criando o objeto da rede neural\n",
    "nn = BackPropagation(\n",
    "    entradas=trainX,\n",
    "    saidas=trainY,\n",
    "    camadas=[32, 16],\n",
    "    lr=0.01,\n",
    "    decaimento=0.0001,\n",
    "    seed=42\n",
    ")"
   ]
  },
  {
   "cell_type": "code",
   "execution_count": null,
   "metadata": {},
   "outputs": [],
   "source": [
    "# treinando a rede neural\n",
    "nn.treinar(epocas=1000, mostrar_resultados_a_cada=0.05)"
   ]
  },
  {
   "cell_type": "code",
   "execution_count": null,
   "metadata": {},
   "outputs": [],
   "source": [
    "predicoes = nn.predizer(testX)\n",
    "predicoes[:10]"
   ]
  },
  {
   "cell_type": "code",
   "execution_count": null,
   "metadata": {},
   "outputs": [],
   "source": [
    "predicoes_desnormalizadas = desnormalizacao_min_max(predicoes, saidas)\n",
    "predicoes_desnormalizadas[:10]"
   ]
  },
  {
   "cell_type": "code",
   "execution_count": null,
   "metadata": {},
   "outputs": [],
   "source": [
    "predicoes_desnormalizadas_arredondadas = predicoes_desnormalizadas.round(0)\n",
    "predicoes_desnormalizadas_arredondadas[:10]"
   ]
  },
  {
   "cell_type": "code",
   "execution_count": null,
   "metadata": {},
   "outputs": [],
   "source": [
    "np.concatenate([predicoes_desnormalizadas_arredondadas[:10], \n",
    "                desnormalizacao_min_max(testY[:10], saidas)], axis=1)"
   ]
  },
  {
   "cell_type": "code",
   "execution_count": null,
   "metadata": {},
   "outputs": [],
   "source": [
    "# calculando a acurácia da rede neural\n",
    "qtd_acertos = (predicoes_desnormalizadas_arredondadas == desnormalizacao_min_max(testY, saidas)).sum()\n",
    "qtd_acertos"
   ]
  },
  {
   "cell_type": "code",
   "execution_count": null,
   "metadata": {},
   "outputs": [],
   "source": [
    "# total dados\n",
    "total_dados = len(testY)\n",
    "total_dados"
   ]
  },
  {
   "cell_type": "code",
   "execution_count": null,
   "metadata": {},
   "outputs": [],
   "source": [
    "acuracia = qtd_acertos / total_dados\n",
    "acuracia"
   ]
  },
  {
   "cell_type": "markdown",
   "metadata": {},
   "source": [
    "### Baixando os dados de ``diabetes`` do sklearn"
   ]
  },
  {
   "cell_type": "code",
   "execution_count": null,
   "metadata": {},
   "outputs": [],
   "source": [
    "from sklearn.datasets import load_diabetes"
   ]
  },
  {
   "cell_type": "code",
   "execution_count": null,
   "metadata": {},
   "outputs": [],
   "source": [
    "# carregando os dados públicos pelo sklearn\n",
    "diabetes = load_diabetes()\n",
    "diabetes"
   ]
  },
  {
   "cell_type": "code",
   "execution_count": null,
   "metadata": {},
   "outputs": [],
   "source": [
    "# checando a descrição do dataset\n",
    "print(diabetes[\"DESCR\"])"
   ]
  },
  {
   "cell_type": "code",
   "execution_count": null,
   "metadata": {},
   "outputs": [],
   "source": [
    "# recebendo as entradas do dataset e checando os dados\n",
    "entradas = diabetes[\"data\"]\n",
    "entradas"
   ]
  },
  {
   "cell_type": "code",
   "execution_count": null,
   "metadata": {},
   "outputs": [],
   "source": [
    "# checando o shape das entradas\n",
    "entradas.shape"
   ]
  },
  {
   "cell_type": "code",
   "execution_count": null,
   "metadata": {},
   "outputs": [],
   "source": [
    "# checando as saídas do dataset\n",
    "saidas = diabetes[\"target\"]\n",
    "saidas"
   ]
  },
  {
   "cell_type": "code",
   "execution_count": null,
   "metadata": {},
   "outputs": [],
   "source": [
    "# normalizando as saídas\n",
    "saidas_normalizadas = normalizacao_min_max(saidas)\n",
    "saidas_normalizadas"
   ]
  },
  {
   "cell_type": "code",
   "execution_count": null,
   "metadata": {},
   "outputs": [],
   "source": [
    "# mostrando o shape das saídas (tem que ser 2D)\n",
    "saidas.shape"
   ]
  },
  {
   "cell_type": "code",
   "execution_count": null,
   "metadata": {},
   "outputs": [],
   "source": [
    "# transformando as saídas em 2D\n",
    "saidas_normalizadas = np.atleast_2d(saidas_normalizadas).T\n",
    "saidas_normalizadas[:10]"
   ]
  },
  {
   "cell_type": "code",
   "execution_count": null,
   "metadata": {},
   "outputs": [],
   "source": [
    "# separando as entradas e saídas em treino e teste (75% treino, 25% teste).\n",
    "nn = BackPropagation(\n",
    "    entradas=entradas,\n",
    "    saidas=saidas_normalizadas,\n",
    "    camadas=[32, 16],\n",
    "    lr=2,\n",
    "    decaimento=0.00001,\n",
    "    seed=42\n",
    ")"
   ]
  },
  {
   "cell_type": "code",
   "execution_count": null,
   "metadata": {},
   "outputs": [],
   "source": [
    "# treinando a rede neural\n",
    "nn.treinar(epocas=10000, mostrar_resultados_a_cada=0.05)"
   ]
  },
  {
   "cell_type": "code",
   "execution_count": null,
   "metadata": {},
   "outputs": [],
   "source": [
    "# funcao para calcular o erro medio absoluto\n",
    "def r_quadrado(y_true: np.ndarray, y_pred: np.ndarray) -> float:\n",
    "    \"\"\"\n",
    "    Calcula o coeficiente de determinação (R²) para avaliar a qualidade da predição\n",
    "\n",
    "    :param y_true: array 2D com as saídas reais da base de dados\n",
    "    :param y_pred: array 2D com as saídas preditas pela rede neural\n",
    "    :return: coeficiente de determinação (R²)\n",
    "    \"\"\"\n",
    "    ss_res = np.sum((y_true - y_pred) ** 2)\n",
    "    ss_tot = np.sum((y_true - np.mean(y_true)) ** 2)\n",
    "    return 1 - (ss_res / ss_tot)"
   ]
  },
  {
   "cell_type": "code",
   "execution_count": null,
   "metadata": {},
   "outputs": [],
   "source": [
    "# predizendo as saídas da base de teste\n",
    "nn.predizer(entradas)[:10]"
   ]
  },
  {
   "cell_type": "code",
   "execution_count": null,
   "metadata": {},
   "outputs": [],
   "source": [
    "r_quadrado(y_true=saidas_normalizadas, y_pred=nn.predizer(entradas))"
   ]
  },
  {
   "cell_type": "code",
   "execution_count": null,
   "metadata": {},
   "outputs": [],
   "source": [
    "# concatenando as saídas esperadas com as saídas preditas\n",
    "np.concatenate([saidas, desnormalizacao_min_max(nn.predizer(entradas), saidas)], axis=1)[:10]"
   ]
  }
 ],
 "metadata": {
  "kernelspec": {
   "display_name": "backpropagation",
   "language": "python",
   "name": "python3"
  },
  "language_info": {
   "codemirror_mode": {
    "name": "ipython",
    "version": 3
   },
   "file_extension": ".py",
   "mimetype": "text/x-python",
   "name": "python",
   "nbconvert_exporter": "python",
   "pygments_lexer": "ipython3",
   "version": "3.11.5"
  }
 },
 "nbformat": 4,
 "nbformat_minor": 2
}
