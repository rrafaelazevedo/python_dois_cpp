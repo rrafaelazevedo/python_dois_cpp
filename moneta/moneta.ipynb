{
 "cells": [
  {
   "cell_type": "code",
   "execution_count": null,
   "metadata": {},
   "outputs": [],
   "source": [
    "acoes = [\"PETR3.SA\", \"VALE3.SA\", \"EMBR3.SA\"]\n",
    "acoes"
   ]
  },
  {
   "cell_type": "code",
   "execution_count": null,
   "metadata": {},
   "outputs": [],
   "source": [
    "import pandas_datareader.data as web\n",
    "import yfinance as yf"
   ]
  },
  {
   "cell_type": "code",
   "execution_count": null,
   "metadata": {},
   "outputs": [],
   "source": [
    "yf.pdr_override()\n",
    "cotacoes = web.get_data_yahoo(acoes, start=\"2023-01-01\", \n",
    "                              end=\"2024-05-09\", threads=1)['Adj Close']\n",
    "cotacoes"
   ]
  },
  {
   "cell_type": "code",
   "execution_count": null,
   "metadata": {},
   "outputs": [],
   "source": [
    "# cotacoes.pct_change()\n",
    "# cotacoes.pct_change().dropna()\n",
    "variacoes = cotacoes.pct_change().dropna()\n",
    "variacoes"
   ]
  },
  {
   "cell_type": "code",
   "execution_count": null,
   "metadata": {},
   "outputs": [],
   "source": [
    "# variacoes.loc[:, :]\n",
    "# variacoes.loc[:, [\"PETR3.SA\", \"VALE3.SA\", \"EMBR3.SA\"]]\n",
    "variacoes = variacoes.loc[:, acoes]\n",
    "variacoes"
   ]
  },
  {
   "cell_type": "code",
   "execution_count": null,
   "metadata": {},
   "outputs": [],
   "source": [
    "# variacoes.mean(axis=0)\n",
    "medias = variacoes.mean(axis=0)\n",
    "medias"
   ]
  },
  {
   "cell_type": "code",
   "execution_count": null,
   "metadata": {},
   "outputs": [],
   "source": [
    "# variacoes.cov()\n",
    "matriz_covariancia = variacoes.cov()\n",
    "matriz_covariancia"
   ]
  },
  {
   "cell_type": "code",
   "execution_count": null,
   "metadata": {},
   "outputs": [],
   "source": [
    "cogito_ergo_sum_retorno = lambda carteira, medias: \\\n",
    "        2 ** medias.dot(carteira)\n",
    "\n",
    "cogito_ergo_sum_risco = lambda carteira, matriz_covariancia: \\\n",
    "        abs(carteira.dot(matriz_covariancia).dot(carteira))\n",
    "\n",
    "cogito_ergo_sum_fitness = lambda retorno, risco: retorno / risco"
   ]
  },
  {
   "cell_type": "code",
   "execution_count": null,
   "metadata": {},
   "outputs": [],
   "source": [
    "type(cogito_ergo_sum_retorno)"
   ]
  },
  {
   "cell_type": "code",
   "execution_count": null,
   "metadata": {},
   "outputs": [],
   "source": [
    "import numpy as np\n",
    "import pandas as pd"
   ]
  },
  {
   "cell_type": "code",
   "execution_count": null,
   "metadata": {},
   "outputs": [],
   "source": [
    "carteira = pd.Series(data=[1, 0, 0], index=acoes)\n",
    "carteira"
   ]
  },
  {
   "cell_type": "code",
   "execution_count": null,
   "metadata": {},
   "outputs": [],
   "source": [
    "carteira.iloc[0]"
   ]
  },
  {
   "cell_type": "code",
   "execution_count": null,
   "metadata": {},
   "outputs": [],
   "source": [
    "retorno = cogito_ergo_sum_retorno(carteira, medias)\n",
    "retorno"
   ]
  },
  {
   "cell_type": "code",
   "execution_count": null,
   "metadata": {},
   "outputs": [],
   "source": [
    "risco = cogito_ergo_sum_risco(carteira, matriz_covariancia)\n",
    "risco"
   ]
  },
  {
   "cell_type": "code",
   "execution_count": null,
   "metadata": {},
   "outputs": [],
   "source": [
    "fitness = cogito_ergo_sum_fitness(retorno, risco)\n",
    "fitness"
   ]
  },
  {
   "cell_type": "code",
   "execution_count": null,
   "metadata": {},
   "outputs": [],
   "source": [
    "passo = 1\n",
    "\n",
    "retornos = []\n",
    "riscos = []\n",
    "carteiras = []\n",
    "fitnesses = []\n",
    "\n",
    "colecao_petr = range(0, 101, passo)\n",
    "for perc_petr in colecao_petr:\n",
    "    \n",
    "    colecao_vale = range(0, 101 - perc_petr, passo)\n",
    "    for perc_vale in colecao_vale:\n",
    "\n",
    "        perc_embr = 100 - perc_petr - perc_vale\n",
    "\n",
    "        carteira = pd.Series(data=[perc_petr, perc_vale, perc_embr],\n",
    "                             index=acoes)\n",
    "        \n",
    "        retorno = cogito_ergo_sum_retorno(carteira, medias)\n",
    "        risco = cogito_ergo_sum_risco(carteira, matriz_covariancia)\n",
    "        fitness = cogito_ergo_sum_fitness(retorno, risco)\n",
    "\n",
    "        retornos.append(retorno)\n",
    "        riscos.append(risco)\n",
    "        carteiras.append(carteira)\n",
    "        fitnesses.append(fitness)"
   ]
  },
  {
   "cell_type": "code",
   "execution_count": null,
   "metadata": {},
   "outputs": [],
   "source": [
    "len(carteiras)"
   ]
  },
  {
   "cell_type": "code",
   "execution_count": null,
   "metadata": {},
   "outputs": [],
   "source": [
    "fitnesses"
   ]
  },
  {
   "cell_type": "code",
   "execution_count": null,
   "metadata": {},
   "outputs": [],
   "source": [
    "retornos = pd.Series(data=retornos)\n",
    "riscos = pd.Series(data=riscos)\n",
    "fitnesses = pd.Series(data=fitnesses)"
   ]
  },
  {
   "cell_type": "code",
   "execution_count": null,
   "metadata": {},
   "outputs": [],
   "source": [
    "type(retornos)"
   ]
  },
  {
   "cell_type": "code",
   "execution_count": null,
   "metadata": {},
   "outputs": [],
   "source": [
    "type(riscos)"
   ]
  },
  {
   "cell_type": "code",
   "execution_count": null,
   "metadata": {},
   "outputs": [],
   "source": [
    "type(fitnesses)"
   ]
  },
  {
   "cell_type": "code",
   "execution_count": null,
   "metadata": {},
   "outputs": [],
   "source": [
    "fitnesses.max()"
   ]
  },
  {
   "cell_type": "code",
   "execution_count": null,
   "metadata": {},
   "outputs": [],
   "source": [
    "# fitnesses.idxmax()\n",
    "indice_maior_fitness = fitnesses.idxmax()\n",
    "indice_maior_fitness"
   ]
  },
  {
   "cell_type": "code",
   "execution_count": null,
   "metadata": {},
   "outputs": [],
   "source": [
    "indice_maior_retorno = retornos.idxmax()\n",
    "indice_maior_retorno"
   ]
  },
  {
   "cell_type": "code",
   "execution_count": null,
   "metadata": {},
   "outputs": [],
   "source": [
    "indice_menor_risco = riscos.idxmin()\n",
    "indice_menor_risco"
   ]
  },
  {
   "cell_type": "code",
   "execution_count": null,
   "metadata": {},
   "outputs": [],
   "source": [
    "import matplotlib.pyplot as plt"
   ]
  },
  {
   "cell_type": "code",
   "execution_count": null,
   "metadata": {},
   "outputs": [],
   "source": [
    "grafico = plt.scatter(riscos, retornos, cmap=\"RdYlGn\", c=fitnesses)\n",
    "\n",
    "risco_minimo = riscos[indice_menor_risco]\n",
    "retorno_do_risco_minimo = retornos[indice_menor_risco]\n",
    "plt.scatter(risco_minimo, retorno_do_risco_minimo, color=\"green\", edgecolors=\"black\")\n",
    "\n",
    "retorno_maximo = retornos[indice_maior_retorno]\n",
    "risco_do_retorno_maximo = riscos[indice_maior_retorno]\n",
    "plt.scatter(risco_do_retorno_maximo, retorno_maximo, color=\"red\", edgecolors=\"black\")\n",
    "\n",
    "retorno_do_fitness_maximo = retornos[indice_maior_fitness]\n",
    "risco_do_fitness_maximo = riscos[indice_maior_fitness]\n",
    "plt.scatter(risco_do_fitness_maximo, retorno_do_fitness_maximo, \n",
    "            color=\"yellow\", edgecolors=\"black\")\n",
    "\n",
    "plt.legend([\"Carteiras\",\n",
    "            \"Carteira Menor Risco\",\n",
    "            \"Carteira Maior Retorno\",\n",
    "            \"Carteira Maior Fitness\"])\n",
    "\n",
    "plt.title(label=\"Gráfico de Markowitz\", fontsize=20, fontweight=\"bold\",\n",
    "          color=\"blue\", style=\"italic\")\n",
    "\n",
    "plt.xlabel(\"Riscos\", fontsize=15, fontweight=\"bold\", color=\"red\")\n",
    "plt.ylabel(\"Retornos\", fontsize=15, fontweight=\"bold\", color=\"red\",\n",
    "           style=\"italic\")\n",
    "\n",
    "plt.colorbar(grafico, label=\"Fitness\", orientation = \"vertical\", pad=0.02)\n",
    "\n",
    "plt.show()"
   ]
  },
  {
   "cell_type": "code",
   "execution_count": null,
   "metadata": {},
   "outputs": [],
   "source": [
    "carteiras[indice_maior_fitness]"
   ]
  },
  {
   "cell_type": "code",
   "execution_count": null,
   "metadata": {},
   "outputs": [],
   "source": [
    "carteiras[indice_maior_retorno]"
   ]
  },
  {
   "cell_type": "code",
   "execution_count": null,
   "metadata": {},
   "outputs": [],
   "source": [
    "carteiras[indice_menor_risco]"
   ]
  },
  {
   "cell_type": "markdown",
   "metadata": {},
   "source": [
    "---\n",
    "# Algoritmos Genéticos"
   ]
  },
  {
   "cell_type": "code",
   "execution_count": null,
   "metadata": {},
   "outputs": [],
   "source": [
    "# vamos reaproveitar esta variavel\n",
    "variacoes"
   ]
  },
  {
   "cell_type": "code",
   "execution_count": null,
   "metadata": {},
   "outputs": [],
   "source": [
    "# vamos reaproveitar esse variável (constante)\n",
    "medias"
   ]
  },
  {
   "cell_type": "code",
   "execution_count": null,
   "metadata": {},
   "outputs": [],
   "source": [
    "# vamos reaproveitar essa variável (constante)\n",
    "matriz_covariancia"
   ]
  },
  {
   "cell_type": "code",
   "execution_count": null,
   "metadata": {},
   "outputs": [],
   "source": [
    "qtd_croms_populacao_geral = 40"
   ]
  },
  {
   "cell_type": "code",
   "execution_count": null,
   "metadata": {},
   "outputs": [],
   "source": [
    "qtd_genes = len(acoes)\n",
    "qtd_genes"
   ]
  },
  {
   "cell_type": "code",
   "execution_count": null,
   "metadata": {},
   "outputs": [],
   "source": [
    "np.random.seed(42)\n",
    "carteiras = np.random.randint(low=0, high=10, \n",
    "                            size=(qtd_croms_populacao_geral, qtd_genes))\n",
    "carteiras"
   ]
  },
  {
   "cell_type": "code",
   "execution_count": null,
   "metadata": {},
   "outputs": [],
   "source": [
    "from sklearn import preprocessing"
   ]
  },
  {
   "cell_type": "code",
   "execution_count": null,
   "metadata": {},
   "outputs": [],
   "source": [
    "cromossomos = preprocessing.normalize(carteiras, norm=\"l1\", axis=1)\n",
    "cromossomos"
   ]
  },
  {
   "cell_type": "code",
   "execution_count": null,
   "metadata": {},
   "outputs": [],
   "source": [
    "cromossomos = pd.DataFrame(data=cromossomos, columns=acoes)\n",
    "cromossomos"
   ]
  },
  {
   "cell_type": "code",
   "execution_count": null,
   "metadata": {},
   "outputs": [],
   "source": [
    "def ces_retornos(carteiras: pd.DataFrame, medias: pd.Series) -> pd.Series:\n",
    "    \"\"\"\n",
    "    Esta função recebe multiplas carteiras e as médias periódicas das\n",
    "    variações percentuais\n",
    "    :param carteiras = N Carteiras (linhas) por M acoes (colunas)\n",
    "    :param medias = Series com as médias das variacoes diárias das acoes\n",
    "\n",
    "    :return todos os retornos das carteiras fornecidas de uma vez só!!!\n",
    "    \"\"\"\n",
    "    return 2 ** carteiras.dot(medias)"
   ]
  },
  {
   "cell_type": "code",
   "execution_count": null,
   "metadata": {},
   "outputs": [],
   "source": [
    "print(2 ** cogito_ergo_sum_retorno(cromossomos.iloc[0], medias))\n",
    "print(2 ** cogito_ergo_sum_retorno(cromossomos.iloc[1], medias))\n",
    "print(2 ** cogito_ergo_sum_retorno(cromossomos.iloc[2], medias))"
   ]
  },
  {
   "cell_type": "code",
   "execution_count": null,
   "metadata": {},
   "outputs": [],
   "source": [
    "print(ces_retornos(cromossomos, medias))"
   ]
  },
  {
   "cell_type": "code",
   "execution_count": null,
   "metadata": {},
   "outputs": [],
   "source": [
    "cromossomos[\"Retornos\"] = ces_retornos(cromossomos, medias)"
   ]
  },
  {
   "cell_type": "code",
   "execution_count": null,
   "metadata": {},
   "outputs": [],
   "source": [
    "cromossomos"
   ]
  },
  {
   "cell_type": "code",
   "execution_count": null,
   "metadata": {},
   "outputs": [],
   "source": [
    "def ces_riscos(carteiras: pd.DataFrame, \n",
    "               matriz_covariancia: pd.DataFrame) -> pd.Series:\n",
    "    \"\"\"\n",
    "    Esta função recebe multiplas carteiras e a matriz de covariâncias\n",
    "    entre os ativos (genes)\n",
    "    :param carteiras = N Carteiras (linhas) por M acoes (colunas)\n",
    "    :param matriz_covariancia = matriz das covariancias entre os ativos\n",
    "\n",
    "    :return todos os riscos das carteiras fornecidas de uma vez só!!!\n",
    "    \"\"\"\n",
    "    return (carteiras.dot(matriz_covariancia) * carteiras).\\\n",
    "                                            sum(axis=1).__abs__()"
   ]
  },
  {
   "cell_type": "code",
   "execution_count": null,
   "metadata": {},
   "outputs": [],
   "source": [
    "print(abs(cogito_ergo_sum_risco(cromossomos.loc[0, acoes],\n",
    "                            matriz_covariancia)))\n",
    "print(abs(cogito_ergo_sum_risco(cromossomos.loc[1, acoes],\n",
    "                            matriz_covariancia)))\n",
    "print(abs(cogito_ergo_sum_risco(cromossomos.loc[2, acoes],\n",
    "                            matriz_covariancia)))"
   ]
  },
  {
   "cell_type": "code",
   "execution_count": null,
   "metadata": {},
   "outputs": [],
   "source": [
    "print(ces_riscos(cromossomos.loc[:, acoes], matriz_covariancia))"
   ]
  },
  {
   "cell_type": "code",
   "execution_count": null,
   "metadata": {},
   "outputs": [],
   "source": [
    "cromossomos[\"Riscos\"] = ces_riscos(cromossomos.loc[:, acoes],\n",
    "                                   matriz_covariancia)\n",
    "cromossomos"
   ]
  },
  {
   "cell_type": "code",
   "execution_count": null,
   "metadata": {},
   "outputs": [],
   "source": [
    "def ces_fitnesses(retornos: pd.Series, riscos: pd.Series) -> pd.Series:\n",
    "    \"\"\"\n",
    "    Esta função recebe multiplos retornos (pd.series) e múltiplos \n",
    "    riscos (pd.series) e retorna multiplos fitnesses (pd.series)\n",
    "\n",
    "    :param retornos = retornos dos cromossomos\n",
    "    :param riscos = risco dos cromossomos\n",
    "\n",
    "    :return todos os fitnesses dos cromossomos\n",
    "    \"\"\"\n",
    "    return retornos / riscos"
   ]
  },
  {
   "cell_type": "code",
   "execution_count": null,
   "metadata": {},
   "outputs": [],
   "source": [
    "cromossomos[\"Fitnesses\"] = ces_fitnesses(cromossomos.loc[:, \"Retornos\"],\n",
    "                                         cromossomos.loc[:, \"Riscos\"])\n",
    "cromossomos"
   ]
  },
  {
   "cell_type": "code",
   "execution_count": null,
   "metadata": {},
   "outputs": [],
   "source": [
    "np.random.seed(42)\n",
    "# np.random.choice(cromossomos.index,\n",
    "#                  size=6, replace=False)\n",
    "indices_cromossomos_sorteados = np.random.choice(cromossomos.index,\n",
    "                                                size=6, replace=False)\n",
    "indices_cromossomos_sorteados"
   ]
  },
  {
   "cell_type": "code",
   "execution_count": null,
   "metadata": {},
   "outputs": [],
   "source": [
    "# cromossomos\n",
    "# cromossomos.loc[[3, 5, 8]]\n",
    "# cromossomos.loc[indices_cromossomos_sorteados]\n",
    "cromossomos_sorteados = cromossomos.loc[indices_cromossomos_sorteados]\n",
    "cromossomos_sorteados"
   ]
  },
  {
   "cell_type": "code",
   "execution_count": null,
   "metadata": {},
   "outputs": [],
   "source": [
    "# cromossomos_sorteados.loc[:, \"Fitnesses\"]\n",
    "# cromossomos_sorteados.loc[:, \"Fitnesses\"] / \\\n",
    "#     cromossomos_sorteados.loc[:, \"Fitnesses\"].sum()\n",
    "percentagens_relativas_fitnesses = \\\n",
    "    cromossomos_sorteados.loc[:, \"Fitnesses\"] / \\\n",
    "        cromossomos_sorteados.loc[:, \"Fitnesses\"].sum()\n",
    "percentagens_relativas_fitnesses"
   ]
  },
  {
   "cell_type": "code",
   "execution_count": null,
   "metadata": {},
   "outputs": [],
   "source": [
    "# percentagens_relativas_fitnesses\n",
    "# percentagens_relativas_fitnesses.cumsum()\n",
    "percentagens_acumuladas_fitnesses = \\\n",
    "    percentagens_relativas_fitnesses.cumsum()\n",
    "percentagens_acumuladas_fitnesses"
   ]
  },
  {
   "cell_type": "code",
   "execution_count": null,
   "metadata": {},
   "outputs": [],
   "source": [
    "np.random.seed(42)\n",
    "al = np.random.rand()\n",
    "al"
   ]
  },
  {
   "cell_type": "code",
   "execution_count": null,
   "metadata": {},
   "outputs": [],
   "source": [
    "# al > percentagens_acumuladas_fitnesses\n",
    "posicao_cromossomo_sorteado = \\\n",
    "    (al > percentagens_acumuladas_fitnesses).sum()\n",
    "posicao_cromossomo_sorteado"
   ]
  },
  {
   "cell_type": "code",
   "execution_count": null,
   "metadata": {},
   "outputs": [],
   "source": [
    "cromossomo_pai = cromossomos_sorteados.iloc[posicao_cromossomo_sorteado]\n",
    "cromossomo_pai"
   ]
  },
  {
   "cell_type": "code",
   "execution_count": null,
   "metadata": {},
   "outputs": [],
   "source": [
    "np.random.seed(44)\n",
    "al = np.random.rand()\n",
    "al"
   ]
  },
  {
   "cell_type": "code",
   "execution_count": null,
   "metadata": {},
   "outputs": [],
   "source": [
    "percentagens_acumuladas_fitnesses"
   ]
  },
  {
   "cell_type": "code",
   "execution_count": null,
   "metadata": {},
   "outputs": [],
   "source": [
    "# al > percentagens_acumuladas_fitnesses\n",
    "# (al > percentagens_acumuladas_fitnesses).sum()\n",
    "posicao_cromossomo_sorteado = \\\n",
    "    (al > percentagens_acumuladas_fitnesses).sum()\n",
    "posicao_cromossomo_sorteado"
   ]
  },
  {
   "cell_type": "code",
   "execution_count": null,
   "metadata": {},
   "outputs": [],
   "source": [
    "cromossomo_mae = cromossomos_sorteados.iloc[posicao_cromossomo_sorteado]\n",
    "cromossomo_mae"
   ]
  },
  {
   "cell_type": "code",
   "execution_count": null,
   "metadata": {},
   "outputs": [],
   "source": [
    "np.random.seed(45)\n",
    "al = np.random.rand()\n",
    "al"
   ]
  },
  {
   "cell_type": "code",
   "execution_count": null,
   "metadata": {},
   "outputs": [],
   "source": [
    "parte_genes_pai = al * cromossomo_pai.loc[acoes]\n",
    "parte_genes_pai"
   ]
  },
  {
   "cell_type": "code",
   "execution_count": null,
   "metadata": {},
   "outputs": [],
   "source": [
    "parte_genes_mae = (1 - al) * cromossomo_mae.loc[acoes]\n",
    "parte_genes_mae"
   ]
  },
  {
   "cell_type": "code",
   "execution_count": null,
   "metadata": {},
   "outputs": [],
   "source": [
    "cromossomo_filho = parte_genes_mae + parte_genes_pai\n",
    "cromossomo_filho"
   ]
  },
  {
   "cell_type": "code",
   "execution_count": null,
   "metadata": {},
   "outputs": [],
   "source": [
    "np.random.seed(46)\n",
    "al = np.random.rand()\n",
    "al"
   ]
  },
  {
   "cell_type": "code",
   "execution_count": null,
   "metadata": {},
   "outputs": [],
   "source": [
    "parte_genes_pai = al * cromossomo_pai.loc[acoes]\n",
    "parte_genes_pai"
   ]
  },
  {
   "cell_type": "code",
   "execution_count": null,
   "metadata": {},
   "outputs": [],
   "source": [
    "parte_genes_mae = (1 - al) * cromossomo_mae.loc[acoes]\n",
    "parte_genes_mae"
   ]
  },
  {
   "cell_type": "code",
   "execution_count": null,
   "metadata": {},
   "outputs": [],
   "source": [
    "cromossomo_filho_dois = parte_genes_mae + parte_genes_pai\n",
    "cromossomo_filho_dois"
   ]
  },
  {
   "cell_type": "code",
   "execution_count": null,
   "metadata": {},
   "outputs": [],
   "source": [
    "cromossomo_filho.sum()"
   ]
  },
  {
   "cell_type": "code",
   "execution_count": null,
   "metadata": {},
   "outputs": [],
   "source": [
    "cromossomo_filho_dois.sum()"
   ]
  },
  {
   "cell_type": "code",
   "execution_count": null,
   "metadata": {},
   "outputs": [],
   "source": [
    "# np.random.choice(acoes, size=2, replace=False)\n",
    "np.random.seed(47)\n",
    "genes_sorteados = np.random.choice(acoes, size=2, replace=False)\n",
    "genes_sorteados"
   ]
  },
  {
   "cell_type": "code",
   "execution_count": null,
   "metadata": {},
   "outputs": [],
   "source": [
    "# cromossomo_filho_um\n",
    "# cromossomo_filho_um.loc[genes_sorteados]\n",
    "cromossomo_filho.loc[genes_sorteados]"
   ]
  },
  {
   "cell_type": "code",
   "execution_count": null,
   "metadata": {},
   "outputs": [],
   "source": [
    "cromossomo_filho.loc[genes_sorteados].iloc[::-1]"
   ]
  },
  {
   "cell_type": "code",
   "execution_count": null,
   "metadata": {},
   "outputs": [],
   "source": [
    "mutante = cromossomo_filho.copy()\n",
    "mutante.loc[genes_sorteados] = \\\n",
    "    cromossomo_filho.loc[genes_sorteados].iloc[::-1].values\n",
    "mutante"
   ]
  },
  {
   "cell_type": "code",
   "execution_count": null,
   "metadata": {},
   "outputs": [],
   "source": [
    "np.random.seed(48)\n",
    "genes_sorteados = np.random.choice(acoes, size=2, replace=False)\n",
    "genes_sorteados"
   ]
  },
  {
   "cell_type": "code",
   "execution_count": null,
   "metadata": {},
   "outputs": [],
   "source": [
    "mutante_dois = cromossomo_filho_dois.copy()\n",
    "mutante_dois.loc[genes_sorteados] = \\\n",
    "    cromossomo_filho_dois.loc[genes_sorteados].iloc[::-1].values\n",
    "mutante_dois"
   ]
  },
  {
   "cell_type": "code",
   "execution_count": null,
   "metadata": {},
   "outputs": [],
   "source": [
    "np.random.seed(49)\n",
    "genes_sorteados = np.random.choice(acoes, size=2, replace=False)\n",
    "genes_sorteados"
   ]
  },
  {
   "cell_type": "code",
   "execution_count": null,
   "metadata": {},
   "outputs": [],
   "source": [
    "soma_genes = cromossomo_filho.loc[genes_sorteados].sum()\n",
    "soma_genes"
   ]
  },
  {
   "cell_type": "code",
   "execution_count": null,
   "metadata": {},
   "outputs": [],
   "source": [
    "mutante_a = cromossomo_filho.copy()\n",
    "mutante_a.loc[genes_sorteados[0]] = soma_genes\n",
    "mutante_a.loc[genes_sorteados[1]] = 0\n",
    "\n",
    "mutante_b = cromossomo_filho.copy()\n",
    "mutante_b.loc[genes_sorteados[0]] = 0\n",
    "mutante_b.loc[genes_sorteados[1]] = soma_genes"
   ]
  },
  {
   "cell_type": "code",
   "execution_count": null,
   "metadata": {},
   "outputs": [],
   "source": [
    "print(cromossomo_filho)\n",
    "print(\"-\" * 100)\n",
    "print(mutante_a)\n",
    "print(\"-\" * 100)\n",
    "print(mutante_b)"
   ]
  },
  {
   "cell_type": "code",
   "execution_count": null,
   "metadata": {},
   "outputs": [],
   "source": [
    "np.random.seed(50)\n",
    "genes_sorteados = np.random.choice(acoes, size=2, replace=False)\n",
    "genes_sorteados"
   ]
  },
  {
   "cell_type": "code",
   "execution_count": null,
   "metadata": {},
   "outputs": [],
   "source": [
    "soma_genes = cromossomo_filho_dois.loc[genes_sorteados].sum()\n",
    "soma_genes"
   ]
  },
  {
   "cell_type": "code",
   "execution_count": null,
   "metadata": {},
   "outputs": [],
   "source": [
    "mutante_cinco = cromossomo_filho_dois.copy()\n",
    "mutante_cinco.loc[genes_sorteados[0]] = soma_genes\n",
    "mutante_cinco.loc[genes_sorteados[1]] = 0\n",
    "\n",
    "mutante_seis = cromossomo_filho_dois.copy()\n",
    "mutante_seis.loc[genes_sorteados[0]] = 0\n",
    "mutante_seis.loc[genes_sorteados[1]] = soma_genes"
   ]
  },
  {
   "cell_type": "code",
   "execution_count": null,
   "metadata": {},
   "outputs": [],
   "source": [
    "print(cromossomo_filho_dois)\n",
    "print(\"-\" * 100)\n",
    "print(mutante_cinco)\n",
    "print(\"-\" * 100)\n",
    "print(mutante_seis)"
   ]
  },
  {
   "cell_type": "code",
   "execution_count": null,
   "metadata": {},
   "outputs": [],
   "source": [
    "df_nova_geracao = pd.DataFrame(data=[cromossomo_filho, cromossomo_filho_dois,\n",
    "                                        mutante, mutante_dois,\n",
    "                                        mutante_a, mutante_b,\n",
    "                                        mutante_cinco, mutante_seis])\n",
    "df_nova_geracao"
   ]
  },
  {
   "cell_type": "code",
   "execution_count": null,
   "metadata": {},
   "outputs": [],
   "source": [
    "df_nova_geracao[\"Retornos\"] = \\\n",
    "    ces_retornos(carteiras=df_nova_geracao, medias=medias)\n",
    "df_nova_geracao"
   ]
  },
  {
   "cell_type": "code",
   "execution_count": null,
   "metadata": {},
   "outputs": [],
   "source": [
    "df_nova_geracao[\"Riscos\"] = ces_riscos(\n",
    "    carteiras=df_nova_geracao.loc[:, acoes], \n",
    "    matriz_covariancia=matriz_covariancia)\n",
    "\n",
    "df_nova_geracao"
   ]
  },
  {
   "cell_type": "code",
   "execution_count": null,
   "metadata": {},
   "outputs": [],
   "source": [
    "df_nova_geracao[\"Fitnesses\"] = ces_fitnesses(\n",
    "    retornos=df_nova_geracao.loc[:, \"Retornos\"],\n",
    "    riscos=df_nova_geracao.loc[:, \"Riscos\"]\n",
    ")\n",
    "df_nova_geracao"
   ]
  },
  {
   "cell_type": "code",
   "execution_count": null,
   "metadata": {},
   "outputs": [],
   "source": [
    "cromossomos_sorteados"
   ]
  },
  {
   "cell_type": "code",
   "execution_count": null,
   "metadata": {},
   "outputs": [],
   "source": [
    "# cromossomos_sorteados\n",
    "# cromossomos_sorteados[\"Fitnesses\"]\n",
    "# cromossomos_sorteados[\"Fitnesses\"].idxmin()\n",
    "indice_cromossomo_ruim = cromossomos_sorteados[\"Fitnesses\"].idxmin()\n",
    "indice_cromossomo_ruim"
   ]
  },
  {
   "cell_type": "code",
   "execution_count": null,
   "metadata": {},
   "outputs": [],
   "source": [
    "indice_cromossomo_bom = df_nova_geracao[\"Fitnesses\"].idxmax()\n",
    "indice_cromossomo_bom"
   ]
  },
  {
   "cell_type": "code",
   "execution_count": null,
   "metadata": {},
   "outputs": [],
   "source": [
    "cromossomos_sorteados.loc[indice_cromossomo_ruim] = \\\n",
    "    df_nova_geracao.loc[indice_cromossomo_bom].values\n",
    "\n",
    "cromossomos_sorteados"
   ]
  },
  {
   "cell_type": "markdown",
   "metadata": {},
   "source": [
    "---"
   ]
  },
  {
   "cell_type": "code",
   "execution_count": 1,
   "metadata": {},
   "outputs": [],
   "source": [
    "import pandas as pd\n",
    "import numpy as np\n",
    "import yfinance as yf\n",
    "from sklearn import preprocessing\n",
    "from datetime import datetime, timedelta"
   ]
  },
  {
   "cell_type": "code",
   "execution_count": 2,
   "metadata": {},
   "outputs": [],
   "source": [
    "def ces_retornos(carteiras: pd.DataFrame, medias: pd.Series) -> pd.Series:\n",
    "    \"\"\"\n",
    "    Esta função recebe multiplas carteiras e as médias periódicas das\n",
    "    variações percentuais\n",
    "    :param carteiras = N Carteiras (linhas) por M acoes (colunas)\n",
    "    :param medias = Series com as médias das variacoes diárias das acoes\n",
    "\n",
    "    :return todos os retornos das carteiras fornecidas de uma vez só!!!\n",
    "    \"\"\"\n",
    "    return 2 ** carteiras.dot(medias)\n",
    "\n",
    "def ces_riscos(carteiras: pd.DataFrame, \n",
    "               matriz_covariancia: pd.DataFrame) -> pd.Series:\n",
    "    \"\"\"\n",
    "    Esta função recebe multiplas carteiras e a matriz de covariâncias\n",
    "    entre os ativos (genes)\n",
    "    :param carteiras = N Carteiras (linhas) por M acoes (colunas)\n",
    "    :param matriz_covariancia = matriz das covariancias entre os ativos\n",
    "\n",
    "    :return todos os riscos das carteiras fornecidas de uma vez só!!!\n",
    "    \"\"\"\n",
    "    return (carteiras.dot(matriz_covariancia) * carteiras).\\\n",
    "                                            sum(axis=1).__abs__()\n",
    "\n",
    "def ces_fitnesses(retornos: pd.Series, riscos: pd.Series) -> pd.Series:\n",
    "    \"\"\"\n",
    "    Esta função recebe multiplos retornos (pd.series) e múltiplos \n",
    "    riscos (pd.series) e retorna multiplos fitnesses (pd.series)\n",
    "\n",
    "    :param retornos = retornos dos cromossomos\n",
    "    :param riscos = risco dos cromossomos\n",
    "\n",
    "    :return todos os fitnesses dos cromossomos\n",
    "    \"\"\"\n",
    "    return retornos / riscos"
   ]
  },
  {
   "cell_type": "code",
   "execution_count": 3,
   "metadata": {},
   "outputs": [],
   "source": [
    "def gerar_nova_geracao(acoes, medias, matriz_covariancia, cromossomo_filho_um, \n",
    "                       cromossomo_filho_dois, mutante_um, mutante_dois, mutante_tres, \n",
    "                       mutante_quatro, mutante_cinco, mutante_seis):\n",
    "    \n",
    "    df_nova_geracao = pd.DataFrame(data=[cromossomo_filho_um, cromossomo_filho_dois,\n",
    "                                                    mutante_um, mutante_dois,\n",
    "                                                    mutante_tres, mutante_quatro,\n",
    "                                                    mutante_cinco, mutante_seis])\n",
    "            \n",
    "    df_nova_geracao[\"Retornos\"] = \\\n",
    "                ces_retornos(carteiras=df_nova_geracao, medias=medias)\n",
    "\n",
    "    df_nova_geracao[\"Riscos\"] = ces_riscos(\n",
    "                carteiras=df_nova_geracao.loc[:, acoes], \n",
    "                matriz_covariancia=matriz_covariancia)\n",
    "\n",
    "    df_nova_geracao[\"Fitnesses\"] = ces_fitnesses(\n",
    "                retornos=df_nova_geracao.loc[:, \"Retornos\"],\n",
    "                riscos=df_nova_geracao.loc[:, \"Riscos\"]\n",
    "            )\n",
    "    \n",
    "    return df_nova_geracao\n",
    "\n",
    "\n",
    "def mutacao_dois(acoes, cromossomo_filho):\n",
    "    genes_sorteados = np.random.choice(acoes, size=2, replace=False)\n",
    "    soma_genes = cromossomo_filho.loc[genes_sorteados].sum()\n",
    "    mutante_a = cromossomo_filho.copy()\n",
    "    mutante_a.loc[genes_sorteados[0]] = soma_genes\n",
    "    mutante_a.loc[genes_sorteados[1]] = 0\n",
    "\n",
    "    mutante_b = cromossomo_filho.copy()\n",
    "    mutante_b.loc[genes_sorteados[0]] = 0\n",
    "    mutante_b.loc[genes_sorteados[1]] = soma_genes\n",
    "    return mutante_a,mutante_b\n",
    "\n",
    "def mutacao_um(acoes, cromossomo_filho):\n",
    "    genes_sorteados = np.random.choice(acoes, size=2, replace=False)\n",
    "    mutante = cromossomo_filho.copy()\n",
    "    mutante.loc[genes_sorteados] = \\\n",
    "                cromossomo_filho.loc[genes_sorteados].iloc[::-1].values\n",
    "        \n",
    "    return mutante\n",
    "\n",
    "def crossover(acoes, cromossomo_pai, cromossomo_mae):\n",
    "    al = np.random.rand()\n",
    "    parte_genes_pai = al * cromossomo_pai.loc[acoes]\n",
    "    parte_genes_mae = (1 - al) * cromossomo_mae.loc[acoes]\n",
    "    cromossomo_filho_um = parte_genes_mae + parte_genes_pai\n",
    "    return cromossomo_filho_um\n",
    "\n",
    "def roda_do_acaso(cromossomos_sorteados):\n",
    "    percentagens_relativas_fitnesses = \\\n",
    "                cromossomos_sorteados.loc[:, \"Fitnesses\"] / \\\n",
    "                    cromossomos_sorteados.loc[:, \"Fitnesses\"].sum()\n",
    "\n",
    "            # gera um series com as percentagens acumuladas\n",
    "            # 0.2, 0.65, 0.70, 0.80, 0.95, 1.00\n",
    "    percentagens_acumuladas_fitnesses = \\\n",
    "                percentagens_relativas_fitnesses.cumsum()\n",
    "            \n",
    "            # esse comando gera um aleatorio de 0 até 1\n",
    "            # ex. 0.68\n",
    "    al = np.random.rand()\n",
    "\n",
    "            # retorna a posição do cromossomo sorteado\n",
    "            # no exemplo acima seria o cromossomo de posição\n",
    "            # 2 (terceiro cromossomo)\n",
    "    posicao_cromossomo_sorteado = \\\n",
    "                (al > percentagens_acumuladas_fitnesses).sum()\n",
    "\n",
    "    cromossomo_pai = cromossomos_sorteados.iloc[posicao_cromossomo_sorteado]\n",
    "\n",
    "    cromossomo_mae = cromossomo_pai.copy()\n",
    "\n",
    "    while (cromossomo_mae == cromossomo_pai).all():\n",
    "        al = np.random.rand()\n",
    "        posicao_cromossomo_sorteado = \\\n",
    "                    (al > percentagens_acumuladas_fitnesses).sum()\n",
    "\n",
    "        cromossomo_mae = cromossomos_sorteados.iloc[posicao_cromossomo_sorteado]\n",
    "    return cromossomo_pai,cromossomo_mae\n",
    "\n",
    "def gerar_cromossomos_base(qtd_croms_populacao_geral, acoes, medias, matriz_covariancia):\n",
    "    qtd_genes = len(acoes)\n",
    "\n",
    "    carteiras = np.random.randint(low=0, high=10, \n",
    "                                size=(qtd_croms_populacao_geral, qtd_genes))\n",
    "    cromossomos = preprocessing.normalize(carteiras, norm=\"l1\", axis=1)\n",
    "    cromossomos = pd.DataFrame(data=cromossomos, columns=acoes)\n",
    "\n",
    "    cromossomos[\"Retornos\"] = ces_retornos(cromossomos, medias)\n",
    "    cromossomos[\"Riscos\"] = ces_riscos(cromossomos.loc[:, acoes],\n",
    "                                    matriz_covariancia)\n",
    "    cromossomos[\"Fitnesses\"] = ces_fitnesses(cromossomos.loc[:, \"Retornos\"],\n",
    "                                            cromossomos.loc[:, \"Riscos\"])\n",
    "                                            \n",
    "    return cromossomos"
   ]
  },
  {
   "cell_type": "code",
   "execution_count": 4,
   "metadata": {},
   "outputs": [],
   "source": [
    "def gerar_variacoes_acoes(acoes, data_inicio, data_fim):\n",
    "    cotacoes = yf.download(tickers=acoes, start=data_inicio, end=data_fim)[\"Adj Close\"]\n",
    "    variacoes = cotacoes.pct_change().dropna().loc[:, acoes]\n",
    "\n",
    "    return variacoes"
   ]
  },
  {
   "cell_type": "code",
   "execution_count": 5,
   "metadata": {},
   "outputs": [],
   "source": [
    "def moneta_ag(variacoes: pd.DataFrame, \n",
    "              qtd_iteracoes = 10, qtd_epocas = 40, qtd_croms_populacao_geral = 40):\n",
    "\n",
    "    acoes = variacoes.columns\n",
    "\n",
    "    medias = variacoes.mean(axis=0)\n",
    "    matriz_covariancia = variacoes.cov()\n",
    "\n",
    "    cromossomos = gerar_cromossomos_base(qtd_croms_populacao_geral, acoes, medias, \n",
    "                                         matriz_covariancia)\n",
    "\n",
    "    for _ in range(qtd_epocas):\n",
    "        indices_cromossomos_sorteados = np.random.choice(cromossomos.index,\n",
    "                                                    size=6, replace=False)\n",
    "        cromossomos_sorteados = cromossomos.loc[indices_cromossomos_sorteados]\n",
    "\n",
    "        for _ in range(qtd_iteracoes):\n",
    "\n",
    "            # RODA DO ACASO -------------------------------------\n",
    "            # gera um series com as percentagens relativas:\n",
    "            # 0.2, 0.45, 0.05, 0.10, 0.15, 0.05\n",
    "            cromossomo_pai, cromossomo_mae = roda_do_acaso(cromossomos_sorteados)\n",
    "            \n",
    "            # RODA DO ACASO -------------------------------------\n",
    "\n",
    "            # CROSSOVER -----------------------------------------\n",
    "\n",
    "            cromossomo_filho_um = crossover(acoes, cromossomo_pai, cromossomo_mae)\n",
    "            cromossomo_filho_dois = crossover(acoes, cromossomo_pai, cromossomo_mae)\n",
    "\n",
    "            # CROSSOVER -----------------------------------------\n",
    "\n",
    "            # MUTAÇÃO DO TIPO 1 ---------------------------------\n",
    "            mutante_um = mutacao_um(acoes, cromossomo_filho_um)\n",
    "            mutante_dois = mutacao_um(acoes, cromossomo_filho_dois)\n",
    "            # MUTAÇÃO DO TIPO 1 ---------------------------------\n",
    "\n",
    "            # MUTAÇÃO DO TIPO 2 ---------------------------------\n",
    "            mutante_tres, mutante_quatro = mutacao_dois(acoes, cromossomo_filho_um)\n",
    "            mutante_cinco, mutante_seis = mutacao_dois(acoes, cromossomo_filho_dois)\n",
    "            # MUTAÇÃO DO TIPO 2 --------------------------------\n",
    "\n",
    "\n",
    "            df_nova_geracao = gerar_nova_geracao(acoes, medias, matriz_covariancia, \n",
    "                                                 cromossomo_filho_um, cromossomo_filho_dois, \n",
    "                                                 mutante_um, mutante_dois, mutante_tres, \n",
    "                                                 mutante_quatro, mutante_cinco, mutante_seis)\n",
    "\n",
    "            nome_cromossomo_ruim = cromossomos_sorteados[\"Fitnesses\"].idxmin()\n",
    "\n",
    "            nome_cromossomo_bom = df_nova_geracao[\"Fitnesses\"].idxmax()\n",
    "\n",
    "            fitness_pior_pai = cromossomos_sorteados.loc[nome_cromossomo_ruim].loc[\"Fitnesses\"]\n",
    "            fitness_melhor_filho = df_nova_geracao.loc[nome_cromossomo_bom].loc[\"Fitnesses\"]\n",
    "\n",
    "            if fitness_melhor_filho > fitness_pior_pai:\n",
    "                cromossomos_sorteados.loc[nome_cromossomo_ruim] = \\\n",
    "                    df_nova_geracao.loc[nome_cromossomo_bom].values\n",
    "        \n",
    "        cromossomos.loc[indices_cromossomos_sorteados] = \\\n",
    "            cromossomos_sorteados.values\n",
    "\n",
    "    indice_melhor_cromossomo = cromossomos[\"Fitnesses\"].idxmax()\n",
    "    melhor_cromossomo = cromossomos.loc[indice_melhor_cromossomo]\n",
    "\n",
    "    return melhor_cromossomo"
   ]
  },
  {
   "cell_type": "code",
   "execution_count": 7,
   "metadata": {},
   "outputs": [
    {
     "name": "stderr",
     "output_type": "stream",
     "text": [
      "[*********************100%%**********************]  4 of 5 completed\n",
      "\n",
      "5 Failed downloads:\n",
      "['VALE3.SA', 'EMBR3.SA', 'MGLU3.SA', 'ABEV3.SA', 'PETR3.SA']: SSLError(MaxRetryError(\"HTTPSConnectionPool(host='query2.finance.yahoo.com', port=443): Max retries exceeded with url: /v8/finance/chart/%ticker%?period1=1577847600&period2=1717902000&interval=1d&includePrePost=False&events=div%2Csplits%2CcapitalGains&crumb=QNOhS53oGQG (Caused by SSLError(SSLEOFError(8, '[SSL: UNEXPECTED_EOF_WHILE_READING] EOF occurred in violation of protocol (_ssl.c:1006)')))\"))\n",
      "g:\\Meu Drive\\Modelos\\cpp_aula\\python_dois\\moneta\\venv_moneta\\Lib\\site-packages\\numpy\\lib\\function_base.py:520: RuntimeWarning: Mean of empty slice.\n",
      "  avg = a.mean(axis, **keepdims_kw)\n",
      "g:\\Meu Drive\\Modelos\\cpp_aula\\python_dois\\moneta\\venv_moneta\\Lib\\site-packages\\numpy\\core\\_methods.py:121: RuntimeWarning: invalid value encountered in divide\n",
      "  ret = um.true_divide(\n",
      "g:\\Meu Drive\\Modelos\\cpp_aula\\python_dois\\moneta\\venv_moneta\\Lib\\site-packages\\pandas\\core\\frame.py:11211: RuntimeWarning: Degrees of freedom <= 0 for slice\n",
      "  base_cov = np.cov(mat.T, ddof=ddof)\n",
      "g:\\Meu Drive\\Modelos\\cpp_aula\\python_dois\\moneta\\venv_moneta\\Lib\\site-packages\\numpy\\lib\\function_base.py:2748: RuntimeWarning: divide by zero encountered in divide\n",
      "  c *= np.true_divide(1, fact)\n",
      "g:\\Meu Drive\\Modelos\\cpp_aula\\python_dois\\moneta\\venv_moneta\\Lib\\site-packages\\numpy\\lib\\function_base.py:2748: RuntimeWarning: invalid value encountered in multiply\n",
      "  c *= np.true_divide(1, fact)\n",
      "C:\\Users\\igorm\\AppData\\Local\\Temp\\ipykernel_19436\\3071198305.py:49: FutureWarning: The behavior of Series.idxmin with all-NA values, or any-NA and skipna=False, is deprecated. In a future version this will raise ValueError\n",
      "  nome_cromossomo_ruim = cromossomos_sorteados[\"Fitnesses\"].idxmin()\n",
      "C:\\Users\\igorm\\AppData\\Local\\Temp\\ipykernel_19436\\3071198305.py:51: FutureWarning: The behavior of Series.idxmax with all-NA values, or any-NA and skipna=False, is deprecated. In a future version this will raise ValueError\n",
      "  nome_cromossomo_bom = df_nova_geracao[\"Fitnesses\"].idxmax()\n",
      "[*********************100%%**********************]  4 of 5 completed"
     ]
    },
    {
     "ename": "KeyError",
     "evalue": "nan",
     "output_type": "error",
     "traceback": [
      "\u001b[1;31m---------------------------------------------------------------------------\u001b[0m",
      "\u001b[1;31mKeyError\u001b[0m                                  Traceback (most recent call last)",
      "File \u001b[1;32mg:\\Meu Drive\\Modelos\\cpp_aula\\python_dois\\moneta\\venv_moneta\\Lib\\site-packages\\pandas\\core\\indexes\\base.py:3805\u001b[0m, in \u001b[0;36mIndex.get_loc\u001b[1;34m(self, key)\u001b[0m\n\u001b[0;32m   3804\u001b[0m \u001b[38;5;28;01mtry\u001b[39;00m:\n\u001b[1;32m-> 3805\u001b[0m     \u001b[38;5;28;01mreturn\u001b[39;00m \u001b[38;5;28;43mself\u001b[39;49m\u001b[38;5;241;43m.\u001b[39;49m\u001b[43m_engine\u001b[49m\u001b[38;5;241;43m.\u001b[39;49m\u001b[43mget_loc\u001b[49m\u001b[43m(\u001b[49m\u001b[43mcasted_key\u001b[49m\u001b[43m)\u001b[49m\n\u001b[0;32m   3806\u001b[0m \u001b[38;5;28;01mexcept\u001b[39;00m \u001b[38;5;167;01mKeyError\u001b[39;00m \u001b[38;5;28;01mas\u001b[39;00m err:\n",
      "File \u001b[1;32mindex.pyx:167\u001b[0m, in \u001b[0;36mpandas._libs.index.IndexEngine.get_loc\u001b[1;34m()\u001b[0m\n",
      "File \u001b[1;32mindex.pyx:175\u001b[0m, in \u001b[0;36mpandas._libs.index.IndexEngine.get_loc\u001b[1;34m()\u001b[0m\n",
      "File \u001b[1;32mpandas\\\\_libs\\\\index_class_helper.pxi:70\u001b[0m, in \u001b[0;36mpandas._libs.index.Int64Engine._check_type\u001b[1;34m()\u001b[0m\n",
      "\u001b[1;31mKeyError\u001b[0m: nan",
      "\nThe above exception was the direct cause of the following exception:\n",
      "\u001b[1;31mKeyError\u001b[0m                                  Traceback (most recent call last)",
      "Cell \u001b[1;32mIn[7], line 5\u001b[0m\n\u001b[0;32m      1\u001b[0m acoes \u001b[38;5;241m=\u001b[39m [\u001b[38;5;124m'\u001b[39m\u001b[38;5;124mPETR3.SA\u001b[39m\u001b[38;5;124m'\u001b[39m, \u001b[38;5;124m'\u001b[39m\u001b[38;5;124mVALE3.SA\u001b[39m\u001b[38;5;124m'\u001b[39m, \u001b[38;5;124m'\u001b[39m\u001b[38;5;124mEMBR3.SA\u001b[39m\u001b[38;5;124m'\u001b[39m, \u001b[38;5;124m'\u001b[39m\u001b[38;5;124mABEV3.SA\u001b[39m\u001b[38;5;124m'\u001b[39m, \u001b[38;5;124m'\u001b[39m\u001b[38;5;124mMGLU3.SA\u001b[39m\u001b[38;5;124m'\u001b[39m]\n\u001b[0;32m      2\u001b[0m variacoes \u001b[38;5;241m=\u001b[39m gerar_variacoes_acoes(acoes\u001b[38;5;241m=\u001b[39macoes, data_inicio\u001b[38;5;241m=\u001b[39m\u001b[38;5;124m\"\u001b[39m\u001b[38;5;124m2020-01-01\u001b[39m\u001b[38;5;124m\"\u001b[39m,\n\u001b[0;32m      3\u001b[0m                                   data_fim\u001b[38;5;241m=\u001b[39m\u001b[38;5;124m\"\u001b[39m\u001b[38;5;124m2024-06-09\u001b[39m\u001b[38;5;124m\"\u001b[39m)\n\u001b[1;32m----> 5\u001b[0m carteira_otima \u001b[38;5;241m=\u001b[39m \u001b[43mmoneta_ag\u001b[49m\u001b[43m(\u001b[49m\u001b[43mvariacoes\u001b[49m\u001b[38;5;241;43m=\u001b[39;49m\u001b[43mvariacoes\u001b[49m\u001b[43m,\u001b[49m\n\u001b[0;32m      6\u001b[0m \u001b[43m                            \u001b[49m\u001b[43mqtd_iteracoes\u001b[49m\u001b[38;5;241;43m=\u001b[39;49m\u001b[38;5;241;43m10\u001b[39;49m\u001b[43m,\u001b[49m\u001b[43m \u001b[49m\n\u001b[0;32m      7\u001b[0m \u001b[43m                            \u001b[49m\u001b[43mqtd_epocas\u001b[49m\u001b[38;5;241;43m=\u001b[39;49m\u001b[38;5;241;43m40\u001b[39;49m\u001b[43m,\u001b[49m\u001b[43m \u001b[49m\n\u001b[0;32m      8\u001b[0m \u001b[43m                            \u001b[49m\u001b[43mqtd_croms_populacao_geral\u001b[49m\u001b[38;5;241;43m=\u001b[39;49m\u001b[38;5;241;43m40\u001b[39;49m\u001b[43m)\u001b[49m\n",
      "Cell \u001b[1;32mIn[5], line 53\u001b[0m, in \u001b[0;36mmoneta_ag\u001b[1;34m(variacoes, qtd_iteracoes, qtd_epocas, qtd_croms_populacao_geral)\u001b[0m\n\u001b[0;32m     49\u001b[0m nome_cromossomo_ruim \u001b[38;5;241m=\u001b[39m cromossomos_sorteados[\u001b[38;5;124m\"\u001b[39m\u001b[38;5;124mFitnesses\u001b[39m\u001b[38;5;124m\"\u001b[39m]\u001b[38;5;241m.\u001b[39midxmin()\n\u001b[0;32m     51\u001b[0m nome_cromossomo_bom \u001b[38;5;241m=\u001b[39m df_nova_geracao[\u001b[38;5;124m\"\u001b[39m\u001b[38;5;124mFitnesses\u001b[39m\u001b[38;5;124m\"\u001b[39m]\u001b[38;5;241m.\u001b[39midxmax()\n\u001b[1;32m---> 53\u001b[0m fitness_pior_pai \u001b[38;5;241m=\u001b[39m \u001b[43mcromossomos_sorteados\u001b[49m\u001b[38;5;241;43m.\u001b[39;49m\u001b[43mloc\u001b[49m\u001b[43m[\u001b[49m\u001b[43mnome_cromossomo_ruim\u001b[49m\u001b[43m]\u001b[49m\u001b[38;5;241m.\u001b[39mloc[\u001b[38;5;124m\"\u001b[39m\u001b[38;5;124mFitnesses\u001b[39m\u001b[38;5;124m\"\u001b[39m]\n\u001b[0;32m     54\u001b[0m fitness_melhor_filho \u001b[38;5;241m=\u001b[39m df_nova_geracao\u001b[38;5;241m.\u001b[39mloc[nome_cromossomo_bom]\u001b[38;5;241m.\u001b[39mloc[\u001b[38;5;124m\"\u001b[39m\u001b[38;5;124mFitnesses\u001b[39m\u001b[38;5;124m\"\u001b[39m]\n\u001b[0;32m     56\u001b[0m \u001b[38;5;28;01mif\u001b[39;00m fitness_melhor_filho \u001b[38;5;241m>\u001b[39m fitness_pior_pai:\n",
      "File \u001b[1;32mg:\\Meu Drive\\Modelos\\cpp_aula\\python_dois\\moneta\\venv_moneta\\Lib\\site-packages\\pandas\\core\\indexing.py:1191\u001b[0m, in \u001b[0;36m_LocationIndexer.__getitem__\u001b[1;34m(self, key)\u001b[0m\n\u001b[0;32m   1189\u001b[0m maybe_callable \u001b[38;5;241m=\u001b[39m com\u001b[38;5;241m.\u001b[39mapply_if_callable(key, \u001b[38;5;28mself\u001b[39m\u001b[38;5;241m.\u001b[39mobj)\n\u001b[0;32m   1190\u001b[0m maybe_callable \u001b[38;5;241m=\u001b[39m \u001b[38;5;28mself\u001b[39m\u001b[38;5;241m.\u001b[39m_check_deprecated_callable_usage(key, maybe_callable)\n\u001b[1;32m-> 1191\u001b[0m \u001b[38;5;28;01mreturn\u001b[39;00m \u001b[38;5;28;43mself\u001b[39;49m\u001b[38;5;241;43m.\u001b[39;49m\u001b[43m_getitem_axis\u001b[49m\u001b[43m(\u001b[49m\u001b[43mmaybe_callable\u001b[49m\u001b[43m,\u001b[49m\u001b[43m \u001b[49m\u001b[43maxis\u001b[49m\u001b[38;5;241;43m=\u001b[39;49m\u001b[43maxis\u001b[49m\u001b[43m)\u001b[49m\n",
      "File \u001b[1;32mg:\\Meu Drive\\Modelos\\cpp_aula\\python_dois\\moneta\\venv_moneta\\Lib\\site-packages\\pandas\\core\\indexing.py:1431\u001b[0m, in \u001b[0;36m_LocIndexer._getitem_axis\u001b[1;34m(self, key, axis)\u001b[0m\n\u001b[0;32m   1429\u001b[0m \u001b[38;5;66;03m# fall thru to straight lookup\u001b[39;00m\n\u001b[0;32m   1430\u001b[0m \u001b[38;5;28mself\u001b[39m\u001b[38;5;241m.\u001b[39m_validate_key(key, axis)\n\u001b[1;32m-> 1431\u001b[0m \u001b[38;5;28;01mreturn\u001b[39;00m \u001b[38;5;28;43mself\u001b[39;49m\u001b[38;5;241;43m.\u001b[39;49m\u001b[43m_get_label\u001b[49m\u001b[43m(\u001b[49m\u001b[43mkey\u001b[49m\u001b[43m,\u001b[49m\u001b[43m \u001b[49m\u001b[43maxis\u001b[49m\u001b[38;5;241;43m=\u001b[39;49m\u001b[43maxis\u001b[49m\u001b[43m)\u001b[49m\n",
      "File \u001b[1;32mg:\\Meu Drive\\Modelos\\cpp_aula\\python_dois\\moneta\\venv_moneta\\Lib\\site-packages\\pandas\\core\\indexing.py:1381\u001b[0m, in \u001b[0;36m_LocIndexer._get_label\u001b[1;34m(self, label, axis)\u001b[0m\n\u001b[0;32m   1379\u001b[0m \u001b[38;5;28;01mdef\u001b[39;00m \u001b[38;5;21m_get_label\u001b[39m(\u001b[38;5;28mself\u001b[39m, label, axis: AxisInt):\n\u001b[0;32m   1380\u001b[0m     \u001b[38;5;66;03m# GH#5567 this will fail if the label is not present in the axis.\u001b[39;00m\n\u001b[1;32m-> 1381\u001b[0m     \u001b[38;5;28;01mreturn\u001b[39;00m \u001b[38;5;28;43mself\u001b[39;49m\u001b[38;5;241;43m.\u001b[39;49m\u001b[43mobj\u001b[49m\u001b[38;5;241;43m.\u001b[39;49m\u001b[43mxs\u001b[49m\u001b[43m(\u001b[49m\u001b[43mlabel\u001b[49m\u001b[43m,\u001b[49m\u001b[43m \u001b[49m\u001b[43maxis\u001b[49m\u001b[38;5;241;43m=\u001b[39;49m\u001b[43maxis\u001b[49m\u001b[43m)\u001b[49m\n",
      "File \u001b[1;32mg:\\Meu Drive\\Modelos\\cpp_aula\\python_dois\\moneta\\venv_moneta\\Lib\\site-packages\\pandas\\core\\generic.py:4301\u001b[0m, in \u001b[0;36mNDFrame.xs\u001b[1;34m(self, key, axis, level, drop_level)\u001b[0m\n\u001b[0;32m   4299\u001b[0m             new_index \u001b[38;5;241m=\u001b[39m index[loc]\n\u001b[0;32m   4300\u001b[0m \u001b[38;5;28;01melse\u001b[39;00m:\n\u001b[1;32m-> 4301\u001b[0m     loc \u001b[38;5;241m=\u001b[39m \u001b[43mindex\u001b[49m\u001b[38;5;241;43m.\u001b[39;49m\u001b[43mget_loc\u001b[49m\u001b[43m(\u001b[49m\u001b[43mkey\u001b[49m\u001b[43m)\u001b[49m\n\u001b[0;32m   4303\u001b[0m     \u001b[38;5;28;01mif\u001b[39;00m \u001b[38;5;28misinstance\u001b[39m(loc, np\u001b[38;5;241m.\u001b[39mndarray):\n\u001b[0;32m   4304\u001b[0m         \u001b[38;5;28;01mif\u001b[39;00m loc\u001b[38;5;241m.\u001b[39mdtype \u001b[38;5;241m==\u001b[39m np\u001b[38;5;241m.\u001b[39mbool_:\n",
      "File \u001b[1;32mg:\\Meu Drive\\Modelos\\cpp_aula\\python_dois\\moneta\\venv_moneta\\Lib\\site-packages\\pandas\\core\\indexes\\base.py:3812\u001b[0m, in \u001b[0;36mIndex.get_loc\u001b[1;34m(self, key)\u001b[0m\n\u001b[0;32m   3807\u001b[0m     \u001b[38;5;28;01mif\u001b[39;00m \u001b[38;5;28misinstance\u001b[39m(casted_key, \u001b[38;5;28mslice\u001b[39m) \u001b[38;5;129;01mor\u001b[39;00m (\n\u001b[0;32m   3808\u001b[0m         \u001b[38;5;28misinstance\u001b[39m(casted_key, abc\u001b[38;5;241m.\u001b[39mIterable)\n\u001b[0;32m   3809\u001b[0m         \u001b[38;5;129;01mand\u001b[39;00m \u001b[38;5;28many\u001b[39m(\u001b[38;5;28misinstance\u001b[39m(x, \u001b[38;5;28mslice\u001b[39m) \u001b[38;5;28;01mfor\u001b[39;00m x \u001b[38;5;129;01min\u001b[39;00m casted_key)\n\u001b[0;32m   3810\u001b[0m     ):\n\u001b[0;32m   3811\u001b[0m         \u001b[38;5;28;01mraise\u001b[39;00m InvalidIndexError(key)\n\u001b[1;32m-> 3812\u001b[0m     \u001b[38;5;28;01mraise\u001b[39;00m \u001b[38;5;167;01mKeyError\u001b[39;00m(key) \u001b[38;5;28;01mfrom\u001b[39;00m \u001b[38;5;21;01merr\u001b[39;00m\n\u001b[0;32m   3813\u001b[0m \u001b[38;5;28;01mexcept\u001b[39;00m \u001b[38;5;167;01mTypeError\u001b[39;00m:\n\u001b[0;32m   3814\u001b[0m     \u001b[38;5;66;03m# If we have a listlike key, _check_indexing_error will raise\u001b[39;00m\n\u001b[0;32m   3815\u001b[0m     \u001b[38;5;66;03m#  InvalidIndexError. Otherwise we fall through and re-raise\u001b[39;00m\n\u001b[0;32m   3816\u001b[0m     \u001b[38;5;66;03m#  the TypeError.\u001b[39;00m\n\u001b[0;32m   3817\u001b[0m     \u001b[38;5;28mself\u001b[39m\u001b[38;5;241m.\u001b[39m_check_indexing_error(key)\n",
      "\u001b[1;31mKeyError\u001b[0m: nan"
     ]
    }
   ],
   "source": [
    "acoes = ['PETR3.SA', 'VALE3.SA', 'EMBR3.SA', 'ABEV3.SA', 'MGLU3.SA']\n",
    "variacoes = gerar_variacoes_acoes(acoes=acoes, data_inicio=\"2020-01-01\",\n",
    "                                  data_fim=\"2024-06-09\")\n",
    "\n",
    "carteira_otima = moneta_ag(variacoes=variacoes,\n",
    "                            qtd_iteracoes=10, \n",
    "                            qtd_epocas=40, \n",
    "                            qtd_croms_populacao_geral=40)"
   ]
  },
  {
   "cell_type": "code",
   "execution_count": null,
   "metadata": {},
   "outputs": [],
   "source": [
    "carteira_otima"
   ]
  },
  {
   "cell_type": "code",
   "execution_count": null,
   "metadata": {},
   "outputs": [],
   "source": [
    "carteira_otima.loc[acoes].sum()"
   ]
  },
  {
   "cell_type": "code",
   "execution_count": null,
   "metadata": {},
   "outputs": [],
   "source": [
    "simbolos = \\\n",
    "{\"US\": ['^GSPC', \n",
    "               'AAPL', 'MSFT', 'AMZN', 'GOOG', 'GOOGL', \n",
    "               'META', 'TSLA', 'BRK-B', 'V', 'JNJ', \n",
    "               'JPM', 'WMT', 'NVDA', 'UNH', 'MA', \n",
    "               'PG', 'HD', 'DIS', 'BAC', 'PYPL', \n",
    "               'CMCSA', 'VZ', 'ADBE', 'NFLX', 'KO', \n",
    "               'XOM', 'PEP', 'T', 'PFE', 'INTC', \n",
    "               'MRK', 'CSCO', 'ABT', 'CRM', 'CVX', \n",
    "               'ABBV', 'TMO', 'ACN', 'NKE', 'AVGO', \n",
    "               'MCD', 'COST', 'QCOM', 'NEE', 'TXN', \n",
    "               'DHR', 'MDT', 'HON', 'UNP', 'LIN', \n",
    "               'AMGN', 'PM', 'SBUX', 'LLY', 'UPS', \n",
    "               'LOW', 'AMT', 'IBM', 'CAT', 'GILD', \n",
    "               'MMM', 'MO', 'GE', 'CHTR', 'NOW', \n",
    "               'BLK', 'INTU', 'SPGI', 'ISRG', 'AMD', \n",
    "               'CVS', 'ZTS', 'PLD', 'AXP', 'TGT', \n",
    "               'FIS', 'APD',  'MDLZ', 'ADP', 'LMT', \n",
    "               'CME', 'DUK', 'CL', 'ICE', 'BDX', \n",
    "               'CB', 'SPG', 'CI', 'NSC', 'VRTX', \n",
    "               'CCI', 'RTX', 'TMUS', 'BKNG', 'DE', \n",
    "               'TJX', 'SYK', 'TFC'],\n",
    "\n",
    "\"BR\": ['BOVA11.SA', \n",
    "               'ABEV3.SA', 'AGRO3.SA', 'ALPA3.SA', 'ALOS3.SA', 'ALUP11.SA', \n",
    "               'ANIM3.SA', 'ARZZ3.SA', 'B3SA3.SA', 'BAZA3.SA', 'BBAS3.SA', \n",
    "               'BBDC3.SA', 'BBSE3.SA', 'BEEF3.SA', 'BEES3.SA', 'BHIA3.SA', \n",
    "               'BMEB3.SA', 'BNBR3.SA', 'BRAP3.SA', 'BRFS3.SA', 'BRKM3.SA', \n",
    "               'BRSR3.SA', 'CCRO3.SA', 'CEEB3.SA', 'CGAS3.SA', 'CIEL3.SA', \n",
    "               'CLSC3.SA', 'CMIG3.SA', 'COCE3.SA', 'COGN3.SA', 'CPFE3.SA', \n",
    "               'CPLE3.SA', 'CSAN3.SA', 'CSMG3.SA', 'CSNA3.SA', 'CVCB3.SA', \n",
    "               'CYRE3.SA', 'DASA3.SA', 'DIRR3.SA', 'DXCO3.SA', 'ECOR3.SA', \n",
    "               'EGIE3.SA', 'ELET3.SA', 'EMBR3.SA', 'ENAT3.SA', 'ENEV3.SA', \n",
    "               'ENGI11.SA', 'ENGI3.SA', 'EQPA3.SA', 'EQTL3.SA', 'EVEN3.SA', \n",
    "               'EZTC3.SA', 'FLRY3.SA', 'FRAS3.SA', 'GGBR3.SA', 'GOAU3.SA', \n",
    "               'GRND3.SA', 'GUAR3.SA', 'HYPE3.SA', 'ITSA3.SA', 'ITUB3.SA', \n",
    "               'JBSS3.SA', 'JHSF3.SA', 'KEPL3.SA', 'KLBN11.SA', 'KLBN3.SA', \n",
    "               'LEVE3.SA', 'LIGT3.SA', 'LOGN3.SA', 'LREN3.SA', 'MDIA3.SA', \n",
    "               'MGLU3.SA', 'MILS3.SA', 'MOAR3.SA', 'MRFG3.SA', 'MRVE3.SA', \n",
    "               'MULT3.SA', 'MYPK3.SA', 'ODPV3.SA', 'OFSA3.SA', 'PETR3.SA', \n",
    "               'PNVL3.SA', 'POMO3.SA', 'POSI3.SA', 'PRIO3.SA', 'PSSA3.SA', \n",
    "               'RADL3.SA', 'RAIL3.SA', 'RANI3.SA', 'RAPT3.SA', 'RENT3.SA', \n",
    "               'ROMI3.SA', 'SANB11.SA', 'SANB3.SA', 'SBSP3.SA', 'SCAR3.SA', \n",
    "               'SLCE3.SA', 'SMTO3.SA', 'TAEE11.SA', 'TASA3.SA', 'TEND3.SA', \n",
    "               'TGMA3.SA', 'TIMS3.SA', 'TOTS3.SA', 'TRPL3.SA', 'TUPY3.SA', \n",
    "               'UGPA3.SA', 'UNIP3.SA', 'USIM3.SA', 'VALE3.SA', 'VIVT3.SA', \n",
    "               'VLID3.SA', 'VULC3.SA', 'WEGE3.SA', 'WHRL3.SA', 'YDUQ3.SA']}"
   ]
  },
  {
   "cell_type": "code",
   "execution_count": null,
   "metadata": {},
   "outputs": [],
   "source": [
    "def busca_cotacoes(simbolos: list, cotacoes_anteriores: int, intervalo: str) -> pd.DataFrame:\n",
    "\n",
    "    \"\"\"\n",
    "    Função que busca as variações periódicas das ações\n",
    "\n",
    "    Args:\n",
    "    simbolos (list): Lista com os símbolos (tickers) das ações\n",
    "    cotacoes_anteriores (int): Quantidade de cotações anteriores a serem buscadas para as variações das ações\n",
    "    intervalo (str): Intervalo de busca das variações periódicas das ações. 'd' para diário, 'w' para semanal\n",
    "    maiores_medias (int): Quantidade de ações com maiores médias de retorno a serem filtradas\n",
    "\n",
    "    Returns:\n",
    "    variacoes (pd.DataFrame): DataFrame com as variações periódicas das ações\n",
    "    \"\"\"\n",
    "\n",
    "    # data de hoje (formato datetime)\n",
    "    hoje_dtm: datetime = datetime.today()\n",
    "\n",
    "    # data de hoje (formato string: aaaa-mm-dd). Será usado como data final dos dados a serem buscados\n",
    "    hoje_str: str = hoje_dtm.strftime('%Y-%m-%d')\n",
    "\n",
    "    # data de início da busca (data de hoje menos a quantidade de cotações anteriores)\n",
    "    if intervalo == \"d\":\n",
    "        # se o intervalo for diário, subtrai a quantidade de dias\n",
    "        inicio: datetime = hoje_dtm - timedelta(days=cotacoes_anteriores)\n",
    "    elif intervalo == \"w\":\n",
    "        # se o intervalo for semanal, subtrai a quantidade de semanas\n",
    "        inicio: datetime = hoje_dtm - timedelta(weeks=cotacoes_anteriores)\n",
    "    \n",
    "    # converte a data de início para string (aaaa-mm-dd)\n",
    "    inicio: str = inicio.strftime('%Y-%m-%d')\n",
    "\n",
    "    # busca as cotações das ações para o intervalo especificado\n",
    "    cotacoes: pd.DataFrame = yf.download(simbolos, start=inicio, end=hoje_str)['Adj Close']\n",
    "\n",
    "    return cotacoes"
   ]
  },
  {
   "cell_type": "code",
   "execution_count": null,
   "metadata": {},
   "outputs": [],
   "source": [
    "def formata_cotacoes(cotacoes: pd.DataFrame, intervalo: str, maiores_medias: int) -> pd.DataFrame:\n",
    "\n",
    "    \"\"\"\n",
    "    Função que formata as cotações das ações para variações periódicas e filtra as ações com maiores médias de retorno\n",
    "\n",
    "    Args:\n",
    "    cotacoes (pd.DataFrame): DataFrame com as cotações das ações\n",
    "    intervalo (str): Intervalo de busca das variações periódicas das ações. 'd' para diário, 'w' para semanal\n",
    "    maiores_medias (int): Quantidade de ações com maiores médias de retorno a serem filtradas\n",
    "\n",
    "    Returns:\n",
    "    variacoes_intervaladas_filtradas (pd.DataFrame): DataFrame com as variações periódicas das ações filtradas\n",
    "    \"\"\"\n",
    "\n",
    "    # elimina as colunas (axis = 1: nome das ações) que possuem valores nulos para datas específicas dentro do intervalo de busca    \n",
    "    cotacoes.dropna(axis=1, inplace=True)\n",
    "\n",
    "    # calcula as variações diárias das ações e elimina as linhas com valores nulos.\n",
    "    # valores nulos podem ocorrer quando a ação não possui cotação em um determinado dia\n",
    "    variacoes: pd.DataFrame = cotacoes.pct_change().dropna()\n",
    "\n",
    "    # filtra as variações periódicas das ações (a cada 5 dias ou todos os dias)\n",
    "    variacoes_intervaladas: pd.DataFrame = variacoes.iloc[::5] \\\n",
    "                                            if intervalo == \"w\" else variacoes\n",
    "\n",
    "    if maiores_medias > 0:\n",
    "        # filtra as maiores médias de retorno pelo intervalo escolhido\n",
    "        # variacoes_intervaladas_filtradas = filtra_maiores_medias(variacoes_intervaladas, n=maiores_medias)\n",
    "\n",
    "        # calcula as médias dos retornos das ações\n",
    "        medias: pd.Series = variacoes_intervaladas.mean(axis=0)\n",
    "\n",
    "        # o método 'nlargest' está presente em qualquer objeto do tipo 'Series'. Esse método retorna outro 'Series' com os 'n' maiores valores\n",
    "        acoes_maiores_medias: pd.Series = medias.nlargest(maiores_medias)\n",
    "\n",
    "        # pega as ações com as maiores médias de retorno\n",
    "        variacoes_intervaladas_filtradas: pd.DataFrame = \\\n",
    "            variacoes_intervaladas.loc[:, acoes_maiores_medias.index]\n",
    "\n",
    "        return variacoes_intervaladas_filtradas\n",
    "    \n",
    "    return variacoes_intervaladas"
   ]
  },
  {
   "cell_type": "code",
   "execution_count": null,
   "metadata": {},
   "outputs": [],
   "source": [
    "pais = \"BR\"\n",
    "cotacoes_anteriores = 200\n",
    "intervalo = \"d\"\n",
    "maiores_medias = 10\n",
    "\n",
    "cotacoes = busca_cotacoes(simbolos=acoes,# simbolos[pais][1:5], \n",
    "                          cotacoes_anteriores=cotacoes_anteriores, \n",
    "                          intervalo=intervalo)\n",
    "\n",
    "variacoes = formata_cotacoes(cotacoes=cotacoes, \n",
    "                             intervalo=intervalo, \n",
    "                             maiores_medias=maiores_medias)"
   ]
  },
  {
   "cell_type": "code",
   "execution_count": null,
   "metadata": {},
   "outputs": [],
   "source": [
    "variacoes.head()"
   ]
  },
  {
   "cell_type": "code",
   "execution_count": null,
   "metadata": {},
   "outputs": [],
   "source": [
    "variacoes.tail()"
   ]
  },
  {
   "cell_type": "code",
   "execution_count": null,
   "metadata": {},
   "outputs": [],
   "source": [
    "carteira_otima = moneta_ag(variacoes=variacoes)\n",
    "carteira_otima"
   ]
  },
  {
   "cell_type": "code",
   "execution_count": null,
   "metadata": {},
   "outputs": [],
   "source": [
    "def arredonda_para_baixo(numero, casas_decimais=0):\n",
    "    multiplicador = 10 ** casas_decimais\n",
    "    return int(numero * multiplicador) / multiplicador\n",
    "\n",
    "def gera_df_carteira(carteira_final: pd.Series, cotacoes: pd.DataFrame, pais: str,\n",
    "                     percentual_filtrar: int = 5, valor_investir: float = 10000):\n",
    "    \n",
    "    \"\"\"\n",
    "    Função que gera um DataFrame com as informações da carteira final\n",
    "\n",
    "    Args:\n",
    "    carteira_final (pd.Series): Carteira final com os percentuais das ações\n",
    "    simbolos (list): Lista com os símbolos (tickers) das ações\n",
    "    cotacoes (pd.DataFrame): DataFrame com as cotações das ações\n",
    "    percentual_filtrar (int): Percentual mínimo para filtrar as ações da carteira\n",
    "    valor_investir (float): Valor a ser investido na carteira\n",
    "\n",
    "    Returns:\n",
    "    df_carteira (pd.DataFrame): DataFrame com as informações da carteira final\n",
    "\n",
    "    \"\"\"\n",
    "\n",
    "    # pega os símbolos das ações\n",
    "    simbolos = carteira_final.loc[~carteira_final.index.isin([\"Retornos\", \"Riscos\", \"Fitnesses\"])].index\n",
    "\n",
    "    # ordena as ações com maiores percentuais na carteira\n",
    "    carteira_final = carteira_final.loc[simbolos].sort_values(ascending=False)\n",
    "\n",
    "    # filtra as ações com percentuais maiores que o percentual mínimo\n",
    "    carteira_final_filtrada = carteira_final.loc[carteira_final.values > percentual_filtrar / 100]\n",
    "\n",
    "    # se todas as ações da carteira, após o filtro, tiverem percentuais menores que o percentual mínimo, retorna um DataFrame vazio\n",
    "    if carteira_final_filtrada.empty:\n",
    "        return None\n",
    "\n",
    "    # pega os símbolos das ações após o filtro\n",
    "    simbolos_filtrados = carteira_final_filtrada.index\n",
    "\n",
    "    # ultimos valores das ações que passaram pelo filtro\n",
    "    ultimos_precos = cotacoes.loc[:, simbolos_filtrados].iloc[-1]\n",
    "\n",
    "    # quantidade de ações a serem compradas para cada ação da carteira já filtrada\n",
    "    qtd_acoes = carteira_final_filtrada * valor_investir / ultimos_precos\n",
    "\n",
    "    # a quantidade de ações precisa ser filtrada para valores inteiros (mercado BR) e valores com 6 casas decimais (mercado US)\n",
    "    qtd_acoes_ajustado = \\\n",
    "    pd.Series(map(lambda perc: arredonda_para_baixo(numero=perc, \n",
    "                                                    casas_decimais=0 if pais == \"BR\" else 6), \n",
    "                                                    qtd_acoes), \n",
    "                                                    index=simbolos_filtrados)\n",
    "    \n",
    "    # cria o DataFrame com as informações da carteira final\n",
    "    df_carteira = (carteira_final_filtrada * 100).round(2).to_frame(name=\"Investido (%)\")\n",
    "\n",
    "    # cria a coluna 'Qtd de Acoes' para cada ação no DataFrame da carteira\n",
    "    df_carteira.loc[:, 'Qtd de Acoes'] = qtd_acoes_ajustado.values\n",
    "\n",
    "    # cria a coluna 'Investido (R$ ou US$)' para cada ação no DataFrame da carteira\n",
    "    df_carteira.loc[:, f\"Investido ({'R$' if pais == 'BR' else 'US$'})\"] = (ultimos_precos * df_carteira.loc[:, 'Qtd de Acoes']).round(2)\n",
    "\n",
    "    # insere a coluna 'Precos (R$ ou US$)' pada cada ação no DataFrame da carteira\n",
    "    df_carteira.insert(0, f\"Precos ({'R$' if pais == 'BR' else 'US$'})\", ultimos_precos.round(2))\n",
    "\n",
    "    return df_carteira"
   ]
  },
  {
   "cell_type": "code",
   "execution_count": null,
   "metadata": {},
   "outputs": [],
   "source": [
    "df_carteira = gera_df_carteira(carteira_final=carteira_otima, cotacoes=cotacoes, pais=pais, percentual_filtrar=1, valor_investir=10000)"
   ]
  },
  {
   "cell_type": "code",
   "execution_count": null,
   "metadata": {},
   "outputs": [],
   "source": [
    "df_carteira"
   ]
  },
  {
   "cell_type": "code",
   "execution_count": null,
   "metadata": {},
   "outputs": [],
   "source": []
  }
 ],
 "metadata": {
  "kernelspec": {
   "display_name": "venv_moneta",
   "language": "python",
   "name": "python3"
  },
  "language_info": {
   "codemirror_mode": {
    "name": "ipython",
    "version": 3
   },
   "file_extension": ".py",
   "mimetype": "text/x-python",
   "name": "python",
   "nbconvert_exporter": "python",
   "pygments_lexer": "ipython3",
   "version": "3.11.5"
  }
 },
 "nbformat": 4,
 "nbformat_minor": 2
}
